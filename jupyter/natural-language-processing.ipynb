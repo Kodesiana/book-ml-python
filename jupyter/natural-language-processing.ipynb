{
 "cells": [
  {
   "cell_type": "markdown",
   "metadata": {},
   "source": [
    "# Natural Language Processing\n",
    "\n",
    "Notebook ini merupakan bagian dari buku **Fundamental Machine Learning menggunakan Python** oleh **Fahmi Noor Fiqri**. Notebook ini berisi contoh kode untuk **Bab 12 - Natural Language Processing.**"
   ]
  },
  {
   "cell_type": "code",
   "execution_count": 1,
   "metadata": {},
   "outputs": [],
   "source": [
    "import re\n",
    "\n",
    "import nltk\n",
    "from sklearn.feature_extraction.text import CountVectorizer\n",
    "from sklearn.feature_extraction.text import TfidfVectorizer"
   ]
  },
  {
   "cell_type": "code",
   "execution_count": 2,
   "metadata": {
    "tags": []
   },
   "outputs": [
    {
     "output_type": "stream",
     "name": "stderr",
     "text": "[nltk_data] Downloading package punkt to\n[nltk_data]     C:\\Users\\fahmi\\AppData\\Roaming\\nltk_data...\n[nltk_data]   Package punkt is already up-to-date!\n[nltk_data] Downloading package stopwords to\n[nltk_data]     C:\\Users\\fahmi\\AppData\\Roaming\\nltk_data...\n[nltk_data]   Package stopwords is already up-to-date!\n[nltk_data] Downloading package wordnet to\n[nltk_data]     C:\\Users\\fahmi\\AppData\\Roaming\\nltk_data...\n[nltk_data]   Package wordnet is already up-to-date!\n[nltk_data] Downloading package averaged_perceptron_tagger to\n[nltk_data]     C:\\Users\\fahmi\\AppData\\Roaming\\nltk_data...\n[nltk_data]   Package averaged_perceptron_tagger is already up-to-\n[nltk_data]       date!\n[nltk_data] Downloading package universal_tagset to\n[nltk_data]     C:\\Users\\fahmi\\AppData\\Roaming\\nltk_data...\n[nltk_data]   Package universal_tagset is already up-to-date!\n[nltk_data] Downloading package maxent_ne_chunker to\n[nltk_data]     C:\\Users\\fahmi\\AppData\\Roaming\\nltk_data...\n[nltk_data]   Package maxent_ne_chunker is already up-to-date!\n[nltk_data] Downloading package words to\n[nltk_data]     C:\\Users\\fahmi\\AppData\\Roaming\\nltk_data...\n[nltk_data]   Package words is already up-to-date!\n[nltk_data] Downloading package snowball_data to\n[nltk_data]     C:\\Users\\fahmi\\AppData\\Roaming\\nltk_data...\n"
    },
    {
     "output_type": "execute_result",
     "data": {
      "text/plain": "True"
     },
     "metadata": {},
     "execution_count": 2
    }
   ],
   "source": [
    "nltk.download([\"punkt\", \"stopwords\", \"wordnet\", \"averaged_perceptron_tagger\", \"universal_tagset\", \"maxent_ne_chunker\", \"words\", \"snowball_data\"])"
   ]
  },
  {
   "cell_type": "markdown",
   "metadata": {},
   "source": [
    "## Regex"
   ]
  },
  {
   "cell_type": "code",
   "execution_count": 3,
   "metadata": {},
   "outputs": [
    {
     "output_type": "execute_result",
     "data": {
      "text/plain": "['@fahminoorfiqri']"
     },
     "metadata": {},
     "execution_count": 3
    }
   ],
   "source": [
    "# Pencocokan teks\n",
    "re.findall('@[^\\s]+', 'Follow Instagram dan Twitter saya, @fahminoorfiqri')"
   ]
  },
  {
   "cell_type": "code",
   "execution_count": 4,
   "metadata": {},
   "outputs": [
    {
     "output_type": "execute_result",
     "data": {
      "text/plain": "'Nomor rumah saya 01 di jalan 013 dan 0101'"
     },
     "metadata": {},
     "execution_count": 4
    }
   ],
   "source": [
    "# Penggantian teks\n",
    "re.sub('[0-9]{2}', '01', 'Nomor rumah saya 10 di jalan 223 dan 3234')"
   ]
  },
  {
   "cell_type": "code",
   "execution_count": 5,
   "metadata": {},
   "outputs": [
    {
     "output_type": "execute_result",
     "data": {
      "text/plain": "['Nama', 'saya', 'Fahmi']"
     },
     "metadata": {},
     "execution_count": 5
    }
   ],
   "source": [
    "# Memisahkan teks\n",
    "re.split('\\s', 'Nama saya Fahmi')"
   ]
  },
  {
   "cell_type": "markdown",
   "metadata": {},
   "source": [
    "## Case Folding"
   ]
  },
  {
   "cell_type": "code",
   "execution_count": 6,
   "metadata": {
    "tags": []
   },
   "outputs": [
    {
     "output_type": "stream",
     "name": "stdout",
     "text": "SAYA SUKA BUAH\nsaya suka buah\n"
    }
   ],
   "source": [
    "# Ubah menjadi kapital\n",
    "teks = \"saya SUKA buah\"\n",
    "print(teks.upper())\n",
    "print(teks.lower())"
   ]
  },
  {
   "cell_type": "markdown",
   "metadata": {},
   "source": [
    "## Tokenization"
   ]
  },
  {
   "cell_type": "code",
   "execution_count": 7,
   "metadata": {
    "tags": []
   },
   "outputs": [
    {
     "output_type": "stream",
     "name": "stdout",
     "text": "[\"There's a lot of bats about five feet from that cave.\", 'Bats, so many bats.']\n"
    }
   ],
   "source": [
    "# Tokenisasi kalimat\n",
    "dokumen = \"There's a lot of bats about five feet from that cave. Bats, so many bats.\"\n",
    "list_kalimat = nltk.tokenize.sent_tokenize(dokumen)\n",
    "print(list_kalimat)"
   ]
  },
  {
   "cell_type": "code",
   "execution_count": 8,
   "metadata": {
    "tags": []
   },
   "outputs": [
    {
     "output_type": "stream",
     "name": "stdout",
     "text": "['There', \"'s\", 'a', 'lot', 'of', 'bats', 'about', 'five', 'feet', 'from', 'that', 'cave']\n"
    }
   ],
   "source": [
    "# Tokenisasi kata\n",
    "kalimat = \"There's a lot of bats about five feet from that cave\"\n",
    "list_kata = nltk.tokenize.word_tokenize(kalimat)\n",
    "print(list_kata)"
   ]
  },
  {
   "cell_type": "markdown",
   "metadata": {},
   "source": [
    "## Stopword Removal"
   ]
  },
  {
   "cell_type": "code",
   "execution_count": 9,
   "metadata": {
    "tags": []
   },
   "outputs": [
    {
     "output_type": "stream",
     "name": "stdout",
     "text": "['i', 'me', 'my', 'myself', 'we', 'our', 'ours', 'ourselves', 'you', \"you're\", \"you've\", \"you'll\", \"you'd\", 'your', 'yours', 'yourself', 'yourselves', 'he', 'him', 'his', 'himself', 'she', \"she's\", 'her', 'hers', 'herself', 'it', \"it's\", 'its', 'itself', 'they', 'them', 'their', 'theirs', 'themselves', 'what', 'which', 'who', 'whom', 'this', 'that', \"that'll\", 'these', 'those', 'am', 'is', 'are', 'was', 'were', 'be', 'been', 'being', 'have', 'has', 'had', 'having', 'do', 'does', 'did', 'doing', 'a', 'an', 'the', 'and', 'but', 'if', 'or', 'because', 'as', 'until', 'while', 'of', 'at', 'by', 'for', 'with', 'about', 'against', 'between', 'into', 'through', 'during', 'before', 'after', 'above', 'below', 'to', 'from', 'up', 'down', 'in', 'out', 'on', 'off', 'over', 'under', 'again', 'further', 'then', 'once', 'here', 'there', 'when', 'where', 'why', 'how', 'all', 'any', 'both', 'each', 'few', 'more', 'most', 'other', 'some', 'such', 'no', 'nor', 'not', 'only', 'own', 'same', 'so', 'than', 'too', 'very', 's', 't', 'can', 'will', 'just', 'don', \"don't\", 'should', \"should've\", 'now', 'd', 'll', 'm', 'o', 're', 've', 'y', 'ain', 'aren', \"aren't\", 'couldn', \"couldn't\", 'didn', \"didn't\", 'doesn', \"doesn't\", 'hadn', \"hadn't\", 'hasn', \"hasn't\", 'haven', \"haven't\", 'isn', \"isn't\", 'ma', 'mightn', \"mightn't\", 'mustn', \"mustn't\", 'needn', \"needn't\", 'shan', \"shan't\", 'shouldn', \"shouldn't\", 'wasn', \"wasn't\", 'weren', \"weren't\", 'won', \"won't\", 'wouldn', \"wouldn't\"]\n"
    }
   ],
   "source": [
    "# Daftar stopword bahasa Inggris\n",
    "list_stopwords = nltk.corpus.stopwords.words('english')\n",
    "print(list_stopwords)"
   ]
  },
  {
   "cell_type": "code",
   "execution_count": 10,
   "metadata": {
    "tags": []
   },
   "outputs": [
    {
     "output_type": "stream",
     "name": "stdout",
     "text": "['There', \"'s\", 'lot', 'bats', 'five', 'feet', 'cave']\n"
    }
   ],
   "source": [
    "# Hapus tanda baca\n",
    "kalimat = \"There's a lot of bats about five feet from that cave\"\n",
    "list_kata = nltk.tokenize.word_tokenize(kalimat)\n",
    "list_kata = [kata for kata in list_kata if not kata in list_stopwords]\n",
    "print(list_kata)"
   ]
  },
  {
   "cell_type": "code",
   "execution_count": 11,
   "metadata": {
    "tags": []
   },
   "outputs": [
    {
     "output_type": "stream",
     "name": "stdout",
     "text": "['There', 'lot', 'bats', 'five', 'feet', 'cave']\n"
    }
   ],
   "source": [
    "# Hapus stopword\n",
    "list_kata = [kata for kata in list_kata if kata.isalnum()]\n",
    "print(list_kata)"
   ]
  },
  {
   "cell_type": "markdown",
   "metadata": {},
   "source": [
    "## Stemming"
   ]
  },
  {
   "cell_type": "code",
   "execution_count": 12,
   "metadata": {
    "tags": []
   },
   "outputs": [
    {
     "output_type": "stream",
     "name": "stdout",
     "text": "['there', 'lot', 'bat', 'five', 'feet', 'cave']\n"
    }
   ],
   "source": [
    "# Stemming menggunakan algoritma Porter\n",
    "stemmer = nltk.stem.SnowballStemmer(language=\"english\")\n",
    "list_kata_stem = [stemmer.stem(kata) for kata in list_kata]\n",
    "print(list_kata_stem)"
   ]
  },
  {
   "cell_type": "markdown",
   "metadata": {},
   "source": [
    "## Lemmatization"
   ]
  },
  {
   "cell_type": "code",
   "execution_count": 13,
   "metadata": {
    "tags": []
   },
   "outputs": [
    {
     "output_type": "stream",
     "name": "stdout",
     "text": "['There', 'lot', 'bat', 'five', 'foot', 'cave']\n"
    }
   ],
   "source": [
    "# Lemmatize menggunakan WordNet\n",
    "lemmatizer = nltk.WordNetLemmatizer()\n",
    "list_kata_lemma = [lemmatizer.lemmatize(kata) for kata in list_kata]\n",
    "print(list_kata_lemma)"
   ]
  },
  {
   "cell_type": "markdown",
   "metadata": {},
   "source": [
    "## Part of Speech (POS) Tagging"
   ]
  },
  {
   "cell_type": "code",
   "execution_count": 14,
   "metadata": {},
   "outputs": [
    {
     "output_type": "execute_result",
     "data": {
      "text/plain": "[('Fahmi', 'NNP'),\n ('has', 'VBZ'),\n ('a', 'DT'),\n ('new', 'JJ'),\n ('computer', 'NN')]"
     },
     "metadata": {},
     "execution_count": 14
    }
   ],
   "source": [
    "# Tagging dengan Averaged Perceptron\n",
    "tokens = nltk.tokenize.word_tokenize(\"Fahmi has a new computer\")\n",
    "nltk.pos_tag(tokens)"
   ]
  },
  {
   "cell_type": "code",
   "execution_count": 15,
   "metadata": {},
   "outputs": [
    {
     "output_type": "execute_result",
     "data": {
      "text/plain": "[('Fahmi', 'NOUN'),\n ('has', 'VERB'),\n ('a', 'DET'),\n ('new', 'ADJ'),\n ('computer', 'NOUN')]"
     },
     "metadata": {},
     "execution_count": 15
    }
   ],
   "source": [
    "# Tagging dengan tag universal\n",
    "tokens = nltk.tokenize.word_tokenize(\"Fahmi has a new computer\")\n",
    "nltk.pos_tag(tokens, tagset='universal')"
   ]
  },
  {
   "cell_type": "code",
   "execution_count": 16,
   "metadata": {},
   "outputs": [],
   "source": [
    "# Membuat tree hubungan tag\n",
    "tokenize = nltk.tokenize.word_tokenize(\"The quick brown fox jumps over the lazy dog\")\n",
    "tagged = nltk.pos_tag(tokenize)\n",
    "\n",
    "grammar = \"NP: {<DT>?<JJ>*<NN>}\"\n",
    "cp = nltk.RegexpParser(grammar)\n",
    "\n",
    "chunked = cp.parse(tagged)\n",
    "chunked.draw()"
   ]
  },
  {
   "cell_type": "markdown",
   "metadata": {},
   "source": [
    "## Count Vectorizer"
   ]
  },
  {
   "cell_type": "code",
   "execution_count": 17,
   "metadata": {
    "tags": []
   },
   "outputs": [
    {
     "output_type": "stream",
     "name": "stdout",
     "text": "[[0 1 1 1 1 0 1 0 0 0]\n [1 0 0 0 0 1 0 1 1 1]]\n['cat', 'computer', 'fahmi', 'has', 'lovely', 'my', 'new', 'on', 'stuck', 'tree']\n"
    }
   ],
   "source": [
    "# Unigram vectorizer\n",
    "vectorizer = CountVectorizer(ngram_range=(1,1))\n",
    "\n",
    "document = [\"Fahmi has a new lovely computer\", \"My cat stuck on a tree\"]\n",
    "doc_transformed = vectorizer.fit_transform(document)\n",
    "\n",
    "print(doc_transformed.toarray())\n",
    "print(vectorizer.get_feature_names())"
   ]
  },
  {
   "cell_type": "code",
   "execution_count": 18,
   "metadata": {
    "tags": []
   },
   "outputs": [
    {
     "output_type": "stream",
     "name": "stdout",
     "text": "[[0 1 1 1 0 1 0 0]\n [1 0 0 0 1 0 1 1]]\n['cat stuck', 'fahmi has', 'has new', 'lovely computer', 'my cat', 'new lovely', 'on tree', 'stuck on']\n"
    }
   ],
   "source": [
    "# Bigram vectorizer\n",
    "vectorizer = CountVectorizer(ngram_range=(2,2), stop_words=None, analyzer='word')\n",
    "\n",
    "document = [\"Fahmi has a new lovely computer\", \"My cat stuck on a tree\"]\n",
    "doc_transformed = vectorizer.fit_transform(document)\n",
    "\n",
    "print(doc_transformed.toarray())\n",
    "print(vectorizer.get_feature_names())"
   ]
  },
  {
   "cell_type": "markdown",
   "metadata": {},
   "source": [
    "## TF-IDF Vectorizer"
   ]
  },
  {
   "cell_type": "code",
   "execution_count": 19,
   "metadata": {
    "tags": []
   },
   "outputs": [
    {
     "output_type": "stream",
     "name": "stdout",
     "text": "[[0.         0.         0.4472136  0.4472136  0.4472136  0.4472136\n  0.         0.4472136  0.         0.         0.        ]\n [0.40824829 0.40824829 0.         0.         0.         0.\n  0.40824829 0.         0.40824829 0.40824829 0.40824829]]\n['above', 'cat', 'computer', 'fahmi', 'has', 'lovely', 'my', 'new', 'on', 'stuck', 'tree']\n"
    }
   ],
   "source": [
    "# Unigram vectorizer\n",
    "vectorizer = TfidfVectorizer(ngram_range=(1,1))\n",
    "\n",
    "document = [\"Fahmi has a new lovely computer\", \"My cat stuck on a tree above\"]\n",
    "doc_transformed = vectorizer.fit_transform(document)\n",
    "\n",
    "print(doc_transformed.toarray())\n",
    "print(vectorizer.get_feature_names())"
   ]
  },
  {
   "cell_type": "code",
   "execution_count": null,
   "metadata": {},
   "outputs": [],
   "source": []
  }
 ],
 "metadata": {
  "language_info": {
   "codemirror_mode": {
    "name": "ipython",
    "version": 3
   },
   "file_extension": ".py",
   "mimetype": "text/x-python",
   "name": "python",
   "nbconvert_exporter": "python",
   "pygments_lexer": "ipython3",
   "version": 3
  },
  "orig_nbformat": 2,
  "kernelspec": {
   "name": "python_defaultSpec_1595153328336",
   "display_name": "Python 3.7.6 64-bit ('ml': conda)"
  }
 },
 "nbformat": 4,
 "nbformat_minor": 2
}