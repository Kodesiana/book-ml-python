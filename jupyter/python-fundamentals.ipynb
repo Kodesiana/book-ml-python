{
 "nbformat": 4,
 "nbformat_minor": 2,
 "metadata": {
  "language_info": {
   "name": "python",
   "codemirror_mode": {
    "name": "ipython",
    "version": 3
   }
  },
  "orig_nbformat": 2,
  "file_extension": ".py",
  "mimetype": "text/x-python",
  "name": "python",
  "npconvert_exporter": "python",
  "pygments_lexer": "ipython3",
  "version": 3
 },
 "cells": [
  {
   "cell_type": "markdown",
   "metadata": {},
   "source": [
    "# Intro to Python\n",
    "\n"
   ]
  },
  {
   "cell_type": "code",
   "execution_count": null,
   "metadata": {},
   "outputs": [],
   "source": [
    "a = 200\n",
    "b = 33"
   ]
  },
  {
   "cell_type": "markdown",
   "metadata": {},
   "source": [
    "## Kondisional"
   ]
  },
  {
   "cell_type": "code",
   "execution_count": null,
   "metadata": {},
   "outputs": [],
   "source": [
    "if b > a:\n",
    "  print(\"b lebih besar daripada a\")\n",
    "elif a == b:\n",
    "  print(\"a dan b bernilai sama\")\n",
    "else:\n",
    "  print(\"a lebih besar daripada b\")"
   ]
  },
  {
   "cell_type": "code",
   "execution_count": null,
   "metadata": {},
   "outputs": [],
   "source": [
    "if a > b and b == 33:\n",
    "  print(\"b lebih besar daripada a\")"
   ]
  },
  {
   "cell_type": "code",
   "execution_count": null,
   "metadata": {},
   "outputs": [],
   "source": [
    "if b > a: print(\"B\")\n",
    "print(\"A\") if a > b else print(\"B\")\n",
    "print(\"A\") if a > b else print(\"=\") if a == b else print(\"B\")"
   ]
  },
  {
   "cell_type": "code",
   "execution_count": null,
   "metadata": {},
   "outputs": [],
   "source": [
    "if a > b and b == 33:\n",
    "  pass"
   ]
  },
  {
   "cell_type": "markdown",
   "metadata": {},
   "source": [
    "## Perulangan"
   ]
  },
  {
   "cell_type": "code",
   "execution_count": null,
   "metadata": {},
   "outputs": [],
   "source": [
    "asprak = [\"Fahmi\", \"Bonbon\"]\n",
    "for x in asprak:\n",
    "    print(x)"
   ]
  },
  {
   "cell_type": "code",
   "execution_count": null,
   "metadata": {},
   "outputs": [],
   "source": [
    "nama_saya = \"Fahmi\"\n",
    "for x in nama_saya:\n",
    "    print(x)"
   ]
  },
  {
   "cell_type": "code",
   "execution_count": null,
   "metadata": {},
   "outputs": [],
   "source": [
    "for x in range(6):\n",
    "    print(x)\n",
    "\n",
    "for x in range(2, 6):\n",
    "    print(x)\n",
    "\n",
    "for x in range(2, 30, 3):\n",
    "    print(x)"
   ]
  },
  {
   "cell_type": "code",
   "execution_count": null,
   "metadata": {},
   "outputs": [],
   "source": [
    "asprak = [\"Fahmi\", \"Bonbon\", \"Bana\", \"Awah\"]\n",
    "for x in asprak:\n",
    "    if asprak == \"Bonbon\":\n",
    "      continue;\n",
    "    if asprak == \"Bana\":\n",
    "      break;\n",
    "      \n",
    "    print(x)"
   ]
  },
  {
   "cell_type": "code",
   "execution_count": null,
   "metadata": {},
   "outputs": [],
   "source": [
    "i = 1\n",
    "while i < 6:\n",
    "  print(i)\n",
    "  i += 1"
   ]
  },
  {
   "cell_type": "markdown",
   "metadata": {},
   "source": [
    "## List, Set, dan Tuple\n",
    "\n",
    "List"
   ]
  },
  {
   "cell_type": "code",
   "execution_count": null,
   "metadata": {},
   "outputs": [],
   "source": [
    "asprak = {\"Fahmi\", \"Bonbon\", \"Bana\", \"Awah\"}\n",
    "print(asprak)"
   ]
  },
  {
   "cell_type": "code",
   "execution_count": null,
   "metadata": {},
   "outputs": [],
   "source": [
    "asprak = [\"Fahmi\", \"Bonbon\", \"Bana\", \"Awah\", \"Sandy\"]\n",
    "print(asprak)"
   ]
  },
  {
   "cell_type": "code",
   "execution_count": null,
   "metadata": {},
   "outputs": [],
   "source": [
    "print(asprak[1])      # Bonbon\n",
    "print(asprak[-1])     # Sandy\n",
    "print(asprak[1:3])    # ['Bonbon', 'Bana']\n",
    "print(asprak[:2])     # ['Fahmi', 'Bonbon']\n",
    "print(asprak[3:])     # ['Awah', 'Sandy']\n",
    "print(asprak[-2:-1])  # ['Awah']\n",
    "print(asprak[0:5:2])  # ['Fahmi', 'Bana', 'Sandy']"
   ]
  },
  {
   "cell_type": "code",
   "execution_count": null,
   "metadata": {},
   "outputs": [],
   "source": [
    "if \"Awah\" in asprak:\n",
    "    print(\"Ada\")\n",
    "else:\n",
    "    print(\"Tidak ada\")"
   ]
  },
  {
   "cell_type": "code",
   "execution_count": null,
   "metadata": {},
   "outputs": [],
   "source": [
    "print(len(asprak))"
   ]
  },
  {
   "cell_type": "code",
   "execution_count": null,
   "metadata": {},
   "outputs": [],
   "source": [
    "asprak.append(\"Irvan\")\n",
    "print(asprak)"
   ]
  },
  {
   "cell_type": "code",
   "execution_count": null,
   "metadata": {},
   "outputs": [],
   "source": [
    "asprak.remove(\"Bana\")\n",
    "print(asprak)"
   ]
  },
  {
   "cell_type": "code",
   "execution_count": null,
   "metadata": {},
   "outputs": [],
   "source": [
    "asprak.clear()\n",
    "print(asprak)"
   ]
  },
  {
   "cell_type": "markdown",
   "metadata": {},
   "source": [
    "## Dictionary"
   ]
  },
  {
   "cell_type": "code",
   "execution_count": null,
   "metadata": {},
   "outputs": [],
   "source": [
    "asprak_algo = {\n",
    "    \"nama\": \"Fahmi Noor Fiqri\",\n",
    "    \"kelas\": \"D\",\n",
    "    \"npm\": \"065118116\"\n",
    "}\n",
    "print(asprak_algo)\n",
    "print(asprak_algo[\"nama\"])"
   ]
  },
  {
   "cell_type": "code",
   "execution_count": null,
   "metadata": {},
   "outputs": [],
   "source": [
    "asprak_algo[\"kelas\"] = \"C\"\n",
    "print(asprak_algo)"
   ]
  },
  {
   "cell_type": "code",
   "execution_count": null,
   "metadata": {},
   "outputs": [],
   "source": [
    "for x in asprak_algo:\n",
    "  print(x)\n",
    "\n",
    "for x in asprak_algo:\n",
    "    print(asprak_algo[x])\n",
    "\n",
    "for x in asprak_algo.values():\n",
    "  print(x)\n",
    "\n",
    "for key, value in asprak_algo.items():\n",
    "  print(key, value)"
   ]
  },
  {
   "cell_type": "code",
   "execution_count": null,
   "metadata": {},
   "outputs": [],
   "source": [
    "if \"nama\" in asprak_algo:\n",
    "    print(\"Ada\")"
   ]
  },
  {
   "cell_type": "code",
   "execution_count": null,
   "metadata": {},
   "outputs": [],
   "source": [
    "asprak_algo[\"alamat\"] = \"Bogor\"\n",
    "print(asprak_algo)\n",
    "\n",
    "asprak_algo.pop(\"kelas\")\n",
    "print(asprak_algo)"
   ]
  },
  {
   "cell_type": "markdown",
   "metadata": {},
   "source": [
    "## Fungsi dan Lambda Expression\n",
    "\n",
    "Fungsi"
   ]
  },
  {
   "cell_type": "code",
   "execution_count": null,
   "metadata": {},
   "outputs": [],
   "source": [
    "def fungsiku():\n",
    "  print(\"Hello World\")"
   ]
  },
  {
   "cell_type": "code",
   "execution_count": null,
   "metadata": {},
   "outputs": [],
   "source": [
    "fungsiku()"
   ]
  },
  {
   "cell_type": "code",
   "execution_count": null,
   "metadata": {},
   "outputs": [],
   "source": [
    "def nama(depan, belakang=\"Fiqri\"):\n",
    "  print(depan, belakang)"
   ]
  },
  {
   "cell_type": "code",
   "execution_count": null,
   "metadata": {},
   "outputs": [],
   "source": [
    "nama(\"Fahmi\")\n",
    "nama(\"Fahmi\", \"Noor\")\n",
    "nama(depan=\"Fahmi\", belakang=\"Noor\")"
   ]
  },
  {
   "cell_type": "code",
   "execution_count": null,
   "metadata": {},
   "outputs": [],
   "source": [
    "def tambah(a, b):\n",
    "  return a + b"
   ]
  },
  {
   "cell_type": "code",
   "execution_count": null,
   "metadata": {},
   "outputs": [],
   "source": [
    "print(tambah(20, 1))"
   ]
  },
  {
   "cell_type": "code",
   "execution_count": null,
   "metadata": {},
   "outputs": [],
   "source": [
    "x = lambda a : a + 10\n",
    "print(x(5))"
   ]
  },
  {
   "cell_type": "code",
   "execution_count": null,
   "metadata": {},
   "outputs": [],
   "source": [
    "x = lambda a, b : a * b\n",
    "print(x(5, 6))"
   ]
  },
  {
   "cell_type": "markdown",
   "metadata": {},
   "source": [
    "## String Formatting"
   ]
  },
  {
   "cell_type": "code",
   "execution_count": null,
   "metadata": {},
   "outputs": [],
   "source": [
    "a = 173.4566\n",
    "b = \"Fahmi\"\n",
    "print(\"Nama saya %s, tinggi badan %.2f\" % (b, a))"
   ]
  },
  {
   "cell_type": "markdown",
   "metadata": {},
   "source": [
    "## File"
   ]
  },
  {
   "cell_type": "code",
   "execution_count": null,
   "metadata": {},
   "outputs": [],
   "source": [
    "with open('tes.txt', 'w') as f:\n",
    "    nama = \"Fahmi\"\n",
    "    f.write(\"Nama saya %s\" % (nama))"
   ]
  },
  {
   "cell_type": "code",
   "execution_count": null,
   "metadata": {},
   "outputs": [],
   "source": [
    "with open('tes.txt', 'r') as f:\n",
    "    print(f.read())"
   ]
  },
  {
   "cell_type": "code",
   "execution_count": null,
   "metadata": {},
   "outputs": [],
   "source": [
    "with open('tes.txt', 'r') as f:\n",
    "    lines = f.readlines()\n",
    "    print(lines)"
   ]
  },
  {
   "cell_type": "code",
   "execution_count": null,
   "metadata": {},
   "outputs": [],
   "source": [
    "with open('tes.txt', 'r') as f:\n",
    "    for line in f:\n",
    "        print(line)"
   ]
  }
 ]
}