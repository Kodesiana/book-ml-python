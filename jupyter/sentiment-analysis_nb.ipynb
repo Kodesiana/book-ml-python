{
 "cells": [
  {
   "cell_type": "code",
   "execution_count": 1,
   "metadata": {},
   "outputs": [],
   "source": [
    "# Mengimpor library\n",
    "import re\n",
    "\n",
    "import pandas as pd\n",
    "\n",
    "import nltk\n",
    "from nltk.corpus import stopwords\n",
    "from nltk.stem import WordNetLemmatizer\n",
    "from nltk.probability import FreqDist\n",
    "from nltk.tokenize import word_tokenize\n",
    "\n",
    "from joblib import Parallel\n",
    "from joblib import delayed\n",
    "\n",
    "from sklearn.pipeline import Pipeline\n",
    "from sklearn.naive_bayes import MultinomialNB\n",
    "from sklearn.preprocessing import LabelEncoder\n",
    "from sklearn.model_selection import train_test_split\n",
    "from sklearn.feature_extraction.text import TfidfVectorizer\n",
    "from sklearn.metrics import classification_report, cohen_kappa_score, ConfusionMatrixDisplay"
   ]
  },
  {
   "cell_type": "markdown",
   "metadata": {},
   "source": [
    "## Data Understanding"
   ]
  },
  {
   "cell_type": "code",
   "execution_count": 2,
   "metadata": {},
   "outputs": [
    {
     "data": {
      "text/html": [
       "<div>\n",
       "<style scoped>\n",
       "    .dataframe tbody tr th:only-of-type {\n",
       "        vertical-align: middle;\n",
       "    }\n",
       "\n",
       "    .dataframe tbody tr th {\n",
       "        vertical-align: top;\n",
       "    }\n",
       "\n",
       "    .dataframe thead th {\n",
       "        text-align: right;\n",
       "    }\n",
       "</style>\n",
       "<table border=\"1\" class=\"dataframe\">\n",
       "  <thead>\n",
       "    <tr style=\"text-align: right;\">\n",
       "      <th></th>\n",
       "      <th>review</th>\n",
       "      <th>sentiment</th>\n",
       "    </tr>\n",
       "  </thead>\n",
       "  <tbody>\n",
       "    <tr>\n",
       "      <th>0</th>\n",
       "      <td>One of the other reviewers has mentioned that ...</td>\n",
       "      <td>positive</td>\n",
       "    </tr>\n",
       "    <tr>\n",
       "      <th>1</th>\n",
       "      <td>A wonderful little production. &lt;br /&gt;&lt;br /&gt;The...</td>\n",
       "      <td>positive</td>\n",
       "    </tr>\n",
       "    <tr>\n",
       "      <th>2</th>\n",
       "      <td>I thought this was a wonderful way to spend ti...</td>\n",
       "      <td>positive</td>\n",
       "    </tr>\n",
       "    <tr>\n",
       "      <th>3</th>\n",
       "      <td>Basically there's a family where a little boy ...</td>\n",
       "      <td>negative</td>\n",
       "    </tr>\n",
       "    <tr>\n",
       "      <th>4</th>\n",
       "      <td>Petter Mattei's \"Love in the Time of Money\" is...</td>\n",
       "      <td>positive</td>\n",
       "    </tr>\n",
       "  </tbody>\n",
       "</table>\n",
       "</div>"
      ],
      "text/plain": [
       "                                              review sentiment\n",
       "0  One of the other reviewers has mentioned that ...  positive\n",
       "1  A wonderful little production. <br /><br />The...  positive\n",
       "2  I thought this was a wonderful way to spend ti...  positive\n",
       "3  Basically there's a family where a little boy ...  negative\n",
       "4  Petter Mattei's \"Love in the Time of Money\" is...  positive"
      ]
     },
     "execution_count": 2,
     "metadata": {},
     "output_type": "execute_result"
    }
   ],
   "source": [
    "# membaca data dari file CSV\n",
    "df = pd.read_csv(r'../datasets/imdb-reviews-50k.csv.gz')\n",
    "df.head()"
   ]
  },
  {
   "cell_type": "code",
   "execution_count": 3,
   "metadata": {},
   "outputs": [
    {
     "data": {
      "text/plain": [
       "<AxesSubplot:>"
      ]
     },
     "execution_count": 3,
     "metadata": {},
     "output_type": "execute_result"
    },
    {
     "data": {
      "image/png": "[encoded data removed]",
      "text/plain": [
       "<Figure size 432x288 with 1 Axes>"
      ]
     },
     "metadata": {
      "needs_background": "light"
     },
     "output_type": "display_data"
    }
   ],
   "source": [
    "# Menghitung banyaknya data untuk setiap kelas\n",
    "df[\"sentiment\"].value_counts().plot(kind=\"bar\")"
   ]
  },
  {
   "cell_type": "markdown",
   "metadata": {},
   "source": [
    "## Data Preparation"
   ]
  },
  {
   "cell_type": "code",
   "execution_count": 4,
   "metadata": {
    "tags": []
   },
   "outputs": [
    {
     "name": "stderr",
     "output_type": "stream",
     "text": [
      "[nltk_data] Downloading package stopwords to /home/fahmi/nltk_data...\n",
      "[nltk_data]   Package stopwords is already up-to-date!\n",
      "[nltk_data] Downloading package punkt to /home/fahmi/nltk_data...\n",
      "[nltk_data]   Package punkt is already up-to-date!\n"
     ]
    }
   ],
   "source": [
    "# Menyiapkan format bahasa dan mengunduh dictionary\n",
    "nltk.download(['stopwords', 'punkt'])\n",
    "\n",
    "# Kumpulan stopwords\n",
    "stopwords_list = set(stopwords.words('english') + ['AT_USER', 'URL'])\n",
    "lemmatizer = WordNetLemmatizer()"
   ]
  },
  {
   "cell_type": "code",
   "execution_count": 5,
   "metadata": {},
   "outputs": [],
   "source": [
    "# Fungsi untuk melakukan pembersihan teks\n",
    "def preprocess_text(text):\n",
    "    text = text.lower()\n",
    "    text = re.sub('((www\\.[^\\s]+)|(https?://[^\\s]+))', 'URL', text)\n",
    "    text = re.sub('@[^\\s]+', 'AT_USER', text)\n",
    "    text = re.sub(r'#([^\\s]+)', r'\\1', text)\n",
    "    tokens = word_tokenize(text)\n",
    "    tokens = [word for word in tokens if word not in stopwords_list and word.isalpha()]\n",
    "    tokens = [lemmatizer.lemmatize(word) for word in tokens if len(word) > 2]\n",
    "    return ' '.join(tokens)"
   ]
  },
  {
   "cell_type": "code",
   "execution_count": 6,
   "metadata": {
    "tags": []
   },
   "outputs": [
    {
     "name": "stderr",
     "output_type": "stream",
     "text": [
      "[Parallel(n_jobs=8)]: Using backend LokyBackend with 8 concurrent workers.\n",
      "[Parallel(n_jobs=8)]: Done  10 tasks      | elapsed:    2.5s\n",
      "[Parallel(n_jobs=8)]: Done 272 tasks      | elapsed:    2.8s\n",
      "[Parallel(n_jobs=8)]: Done 1168 tasks      | elapsed:    3.0s\n",
      "[Parallel(n_jobs=8)]: Done 2064 tasks      | elapsed:    3.2s\n",
      "[Parallel(n_jobs=8)]: Done 3216 tasks      | elapsed:    3.6s\n",
      "[Parallel(n_jobs=8)]: Done 4368 tasks      | elapsed:    3.9s\n",
      "[Parallel(n_jobs=8)]: Done 5776 tasks      | elapsed:    4.4s\n",
      "[Parallel(n_jobs=8)]: Done 7184 tasks      | elapsed:    4.7s\n",
      "[Parallel(n_jobs=8)]: Done 8848 tasks      | elapsed:    5.3s\n",
      "[Parallel(n_jobs=8)]: Done 10512 tasks      | elapsed:    5.7s\n",
      "[Parallel(n_jobs=8)]: Done 12432 tasks      | elapsed:    6.3s\n",
      "[Parallel(n_jobs=8)]: Done 14352 tasks      | elapsed:    6.8s\n",
      "[Parallel(n_jobs=8)]: Done 16528 tasks      | elapsed:    7.4s\n",
      "[Parallel(n_jobs=8)]: Done 18704 tasks      | elapsed:    8.0s\n",
      "[Parallel(n_jobs=8)]: Done 21136 tasks      | elapsed:    8.7s\n",
      "[Parallel(n_jobs=8)]: Done 23568 tasks      | elapsed:    9.4s\n",
      "[Parallel(n_jobs=8)]: Done 26256 tasks      | elapsed:   10.1s\n",
      "[Parallel(n_jobs=8)]: Done 28944 tasks      | elapsed:   11.0s\n",
      "[Parallel(n_jobs=8)]: Done 31888 tasks      | elapsed:   11.8s\n",
      "[Parallel(n_jobs=8)]: Done 34832 tasks      | elapsed:   12.6s\n",
      "[Parallel(n_jobs=8)]: Done 38032 tasks      | elapsed:   13.5s\n",
      "[Parallel(n_jobs=8)]: Done 41232 tasks      | elapsed:   14.4s\n",
      "[Parallel(n_jobs=8)]: Done 44688 tasks      | elapsed:   15.4s\n",
      "[Parallel(n_jobs=8)]: Done 48144 tasks      | elapsed:   16.3s\n",
      "[Parallel(n_jobs=8)]: Done 49142 tasks      | elapsed:   16.6s\n",
      "[Parallel(n_jobs=8)]: Done 49668 tasks      | elapsed:   16.7s\n",
      "[Parallel(n_jobs=8)]: Done 50000 out of 50000 | elapsed:   16.8s finished\n"
     ]
    }
   ],
   "source": [
    "y = df[\"sentiment\"].values\n",
    "X = Parallel(n_jobs=8, batch_size=128, verbose=10)(delayed(preprocess_text)(text) for text in df[\"review\"].values)"
   ]
  },
  {
   "cell_type": "code",
   "execution_count": 7,
   "metadata": {},
   "outputs": [
    {
     "name": "stdout",
     "output_type": "stream",
     "text": [
      "[('movie', 99849), ('film', 90372), ('one', 53623), ('like', 40139), ('time', 29633)]\n"
     ]
    },
    {
     "data": {
      "image/png": "[encoded data removed]",
      "text/plain": [
       "<Figure size 432x288 with 1 Axes>"
      ]
     },
     "metadata": {
      "needs_background": "light"
     },
     "output_type": "display_data"
    },
    {
     "data": {
      "text/plain": [
       "<AxesSubplot:xlabel='Samples', ylabel='Counts'>"
      ]
     },
     "execution_count": 7,
     "metadata": {},
     "output_type": "execute_result"
    }
   ],
   "source": [
    "# Membuat korpus kata-kata umum\n",
    "freqdist = FreqDist()\n",
    "for sentence in X:\n",
    "    for word in word_tokenize(sentence):\n",
    "        freqdist[word] += 1\n",
    "\n",
    "# Visualisasi kata-kata umum\n",
    "print(freqdist.most_common(5))\n",
    "freqdist.plot(10, cumulative=False)"
   ]
  },
  {
   "cell_type": "code",
   "execution_count": 8,
   "metadata": {},
   "outputs": [],
   "source": [
    "# Membagi data latih dan uji\n",
    "X_train, X_test, y_train, y_test = train_test_split(X, y, test_size=0.33, random_state=42, stratify=y)"
   ]
  },
  {
   "cell_type": "code",
   "execution_count": 9,
   "metadata": {},
   "outputs": [],
   "source": [
    "# Fungsi untuk mengubah id 4 menjadi 1 dan sisanya 0\n",
    "lb = LabelEncoder()\n",
    "\n",
    "y_train = lb.fit_transform(y_train)\n",
    "y_test = lb.transform(y_test)"
   ]
  },
  {
   "cell_type": "markdown",
   "metadata": {},
   "source": [
    "## Modelling"
   ]
  },
  {
   "cell_type": "code",
   "execution_count": 10,
   "metadata": {
    "tags": []
   },
   "outputs": [
    {
     "data": {
      "text/plain": [
       "Pipeline(steps=[('tfidf', TfidfVectorizer()), ('clf', MultinomialNB())])"
      ]
     },
     "execution_count": 10,
     "metadata": {},
     "output_type": "execute_result"
    }
   ],
   "source": [
    "# Membuat model\n",
    "classifier = Pipeline([\n",
    "    ('tfidf', TfidfVectorizer(use_idf=True)),\n",
    "    ('clf', MultinomialNB())\n",
    "])\n",
    "\n",
    "classifier.fit(X_train, y_train)"
   ]
  },
  {
   "cell_type": "markdown",
   "metadata": {},
   "source": [
    "## Evaluation"
   ]
  },
  {
   "cell_type": "code",
   "execution_count": 11,
   "metadata": {
    "tags": []
   },
   "outputs": [
    {
     "name": "stdout",
     "output_type": "stream",
     "text": [
      "Kappa score: 0.7263030303030302\n",
      "              precision    recall  f1-score   support\n",
      "\n",
      "    negative       0.85      0.88      0.87      8250\n",
      "    positive       0.87      0.85      0.86      8250\n",
      "\n",
      "    accuracy                           0.86     16500\n",
      "   macro avg       0.86      0.86      0.86     16500\n",
      "weighted avg       0.86      0.86      0.86     16500\n",
      "\n"
     ]
    }
   ],
   "source": [
    "# Melakukan prediksi menggunakan data uji\n",
    "y_pred = classifier.predict(X_test)\n",
    "\n",
    "print(\"Kappa score:\", cohen_kappa_score(y_test, y_pred))\n",
    "print(classification_report(y_test, y_pred, target_names=lb.classes_))"
   ]
  },
  {
   "cell_type": "code",
   "execution_count": 12,
   "metadata": {},
   "outputs": [
    {
     "data": {
      "text/plain": [
       "<sklearn.metrics._plot.confusion_matrix.ConfusionMatrixDisplay at 0x7f1874bdeca0>"
      ]
     },
     "execution_count": 12,
     "metadata": {},
     "output_type": "execute_result"
    },
    {
     "data": {
      "image/png": "[encoded data removed]",
      "text/plain": [
       "<Figure size 432x288 with 2 Axes>"
      ]
     },
     "metadata": {
      "needs_background": "light"
     },
     "output_type": "display_data"
    }
   ],
   "source": [
    "# Membuat confusion matrix\n",
    "ConfusionMatrixDisplay.from_predictions(y_test, y_pred, display_labels=lb.classes_)"
   ]
  },
  {
   "cell_type": "code",
   "execution_count": 13,
   "metadata": {},
   "outputs": [
    {
     "name": "stdout",
     "output_type": "stream",
     "text": [
      "this painting is excellent = positive\n",
      "you're horrible person! = negative\n"
     ]
    }
   ],
   "source": [
    "# Lakukan pediksi satu kalimat\n",
    "pred_text = [\"this painting is excellent\", \"you're horrible person!\"]\n",
    "pred_input = [preprocess_text(x) for x in pred_text]\n",
    "\n",
    "# Prediksi kelas\n",
    "predictions = classifier.predict(pred_input)\n",
    "predictions_classes = lb.inverse_transform(predictions)\n",
    "\n",
    "for text, sentiment in zip(pred_text, predictions_classes):\n",
    "    print(text, \"=\", sentiment)"
   ]
  },
  {
   "cell_type": "code",
   "execution_count": null,
   "metadata": {},
   "outputs": [],
   "source": []
  }
 ],
 "metadata": {
  "kernelspec": {
   "display_name": "Python 3",
   "name": "python3"
  },
  "language_info": {
   "codemirror_mode": {
    "name": "ipython",
    "version": 3
   },
   "file_extension": ".py",
   "mimetype": "text/x-python",
   "name": "python",
   "nbconvert_exporter": "python",
   "pygments_lexer": "ipython3",
   "version": "3.8.12"
  },
  "orig_nbformat": 2
 },
 "nbformat": 4,
 "nbformat_minor": 2
}
