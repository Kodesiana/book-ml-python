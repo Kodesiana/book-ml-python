{
 "cells": [
  {
   "cell_type": "markdown",
   "metadata": {},
   "source": [
    "# Preprocessing\n",
    "\n",
    "Notebook ini merupakan bagian dari buku **Machine Learning menggunakan Python** oleh **Fahmi Noor Fiqri**. Notebook ini berisi contoh kode untuk **BAB IV - Preprocessing.**"
   ]
  },
  {
   "cell_type": "code",
   "execution_count": 1,
   "metadata": {},
   "outputs": [],
   "source": [
    "import pandas as pd\n",
    "import numpy as np\n",
    "import matplotlib.pyplot as plt\n",
    "import seaborn as sns\n",
    "\n",
    "from sklearn import set_config\n",
    "from sklearn.utils import resample\n",
    "\n",
    "from sklearn.tree import DecisionTreeClassifier\n",
    "from sklearn.decomposition import PCA, TruncatedSVD\n",
    "\n",
    "from sklearn.impute import SimpleImputer, KNNImputer\n",
    "from sklearn.model_selection import train_test_split\n",
    "from sklearn.feature_selection import mutual_info_classif, chi2, f_classif\n",
    "from sklearn.preprocessing import StandardScaler, MinMaxScaler, LabelEncoder, OneHotEncoder, OrdinalEncoder\n",
    "\n",
    "from sklearn.pipeline import Pipeline\n",
    "from sklearn.compose import ColumnTransformer\n",
    "from sklearn.metrics import mean_absolute_error, mean_squared_error\n",
    "\n",
    "set_config(display=\"diagram\")"
   ]
  },
  {
   "cell_type": "markdown",
   "metadata": {},
   "source": [
    "## Membaca Data"
   ]
  },
  {
   "cell_type": "code",
   "execution_count": 2,
   "metadata": {
    "tags": []
   },
   "outputs": [
    {
     "name": "stdout",
     "output_type": "stream",
     "text": [
      "<class 'pandas.core.frame.DataFrame'>\n",
      "RangeIndex: 32561 entries, 0 to 32560\n",
      "Data columns (total 15 columns):\n",
      " #   Column          Non-Null Count  Dtype \n",
      "---  ------          --------------  ----- \n",
      " 0   age             32561 non-null  int64 \n",
      " 1   workclass       30725 non-null  object\n",
      " 2   fnlwgt          32561 non-null  int64 \n",
      " 3   education       32561 non-null  object\n",
      " 4   education-num   32561 non-null  int64 \n",
      " 5   martial-status  32561 non-null  object\n",
      " 6   occupation      30718 non-null  object\n",
      " 7   relationship    32561 non-null  object\n",
      " 8   race            32561 non-null  object\n",
      " 9   sex             32561 non-null  object\n",
      " 10  capital-gain    32561 non-null  int64 \n",
      " 11  capital-loss    32561 non-null  int64 \n",
      " 12  hours-per-week  32561 non-null  int64 \n",
      " 13  native-country  31978 non-null  object\n",
      " 14  income          32561 non-null  object\n",
      "dtypes: int64(6), object(9)\n",
      "memory usage: 3.7+ MB\n"
     ]
    }
   ],
   "source": [
    "df = pd.read_csv(r'../datasets/adult.csv', na_values=[\"?\"])\n",
    "df.info()"
   ]
  },
  {
   "cell_type": "markdown",
   "metadata": {},
   "source": [
    "## Menghapus Data Duplikat"
   ]
  },
  {
   "cell_type": "code",
   "execution_count": 3,
   "metadata": {
    "tags": []
   },
   "outputs": [
    {
     "name": "stdout",
     "output_type": "stream",
     "text": [
      "Jumlah dataset asli:  32561\n",
      "Jumlah data tanpa duplikat:  32537\n"
     ]
    },
    {
     "data": {
      "text/html": [
       "<div>\n",
       "<style scoped>\n",
       "    .dataframe tbody tr th:only-of-type {\n",
       "        vertical-align: middle;\n",
       "    }\n",
       "\n",
       "    .dataframe tbody tr th {\n",
       "        vertical-align: top;\n",
       "    }\n",
       "\n",
       "    .dataframe thead th {\n",
       "        text-align: right;\n",
       "    }\n",
       "</style>\n",
       "<table border=\"1\" class=\"dataframe\">\n",
       "  <thead>\n",
       "    <tr style=\"text-align: right;\">\n",
       "      <th></th>\n",
       "      <th>age</th>\n",
       "      <th>workclass</th>\n",
       "      <th>fnlwgt</th>\n",
       "      <th>education</th>\n",
       "      <th>education-num</th>\n",
       "      <th>martial-status</th>\n",
       "      <th>occupation</th>\n",
       "      <th>relationship</th>\n",
       "      <th>race</th>\n",
       "      <th>sex</th>\n",
       "      <th>capital-gain</th>\n",
       "      <th>capital-loss</th>\n",
       "      <th>hours-per-week</th>\n",
       "      <th>native-country</th>\n",
       "      <th>income</th>\n",
       "    </tr>\n",
       "  </thead>\n",
       "  <tbody>\n",
       "    <tr>\n",
       "      <th>4881</th>\n",
       "      <td>25</td>\n",
       "      <td>Private</td>\n",
       "      <td>308144</td>\n",
       "      <td>Bachelors</td>\n",
       "      <td>13</td>\n",
       "      <td>Never-married</td>\n",
       "      <td>Craft-repair</td>\n",
       "      <td>Not-in-family</td>\n",
       "      <td>White</td>\n",
       "      <td>Male</td>\n",
       "      <td>0</td>\n",
       "      <td>0</td>\n",
       "      <td>40</td>\n",
       "      <td>Mexico</td>\n",
       "      <td>&lt;=50K</td>\n",
       "    </tr>\n",
       "    <tr>\n",
       "      <th>5104</th>\n",
       "      <td>90</td>\n",
       "      <td>Private</td>\n",
       "      <td>52386</td>\n",
       "      <td>Some-college</td>\n",
       "      <td>10</td>\n",
       "      <td>Never-married</td>\n",
       "      <td>Other-service</td>\n",
       "      <td>Not-in-family</td>\n",
       "      <td>Asian-Pac-Islander</td>\n",
       "      <td>Male</td>\n",
       "      <td>0</td>\n",
       "      <td>0</td>\n",
       "      <td>35</td>\n",
       "      <td>United-States</td>\n",
       "      <td>&lt;=50K</td>\n",
       "    </tr>\n",
       "    <tr>\n",
       "      <th>9171</th>\n",
       "      <td>21</td>\n",
       "      <td>Private</td>\n",
       "      <td>250051</td>\n",
       "      <td>Some-college</td>\n",
       "      <td>10</td>\n",
       "      <td>Never-married</td>\n",
       "      <td>Prof-specialty</td>\n",
       "      <td>Own-child</td>\n",
       "      <td>White</td>\n",
       "      <td>Female</td>\n",
       "      <td>0</td>\n",
       "      <td>0</td>\n",
       "      <td>10</td>\n",
       "      <td>United-States</td>\n",
       "      <td>&lt;=50K</td>\n",
       "    </tr>\n",
       "    <tr>\n",
       "      <th>11631</th>\n",
       "      <td>20</td>\n",
       "      <td>Private</td>\n",
       "      <td>107658</td>\n",
       "      <td>Some-college</td>\n",
       "      <td>10</td>\n",
       "      <td>Never-married</td>\n",
       "      <td>Tech-support</td>\n",
       "      <td>Not-in-family</td>\n",
       "      <td>White</td>\n",
       "      <td>Female</td>\n",
       "      <td>0</td>\n",
       "      <td>0</td>\n",
       "      <td>10</td>\n",
       "      <td>United-States</td>\n",
       "      <td>&lt;=50K</td>\n",
       "    </tr>\n",
       "    <tr>\n",
       "      <th>13084</th>\n",
       "      <td>25</td>\n",
       "      <td>Private</td>\n",
       "      <td>195994</td>\n",
       "      <td>1st-4th</td>\n",
       "      <td>2</td>\n",
       "      <td>Never-married</td>\n",
       "      <td>Priv-house-serv</td>\n",
       "      <td>Not-in-family</td>\n",
       "      <td>White</td>\n",
       "      <td>Female</td>\n",
       "      <td>0</td>\n",
       "      <td>0</td>\n",
       "      <td>40</td>\n",
       "      <td>Guatemala</td>\n",
       "      <td>&lt;=50K</td>\n",
       "    </tr>\n",
       "  </tbody>\n",
       "</table>\n",
       "</div>"
      ],
      "text/plain": [
       "       age workclass  fnlwgt     education  education-num martial-status  \\\n",
       "4881    25   Private  308144     Bachelors             13  Never-married   \n",
       "5104    90   Private   52386  Some-college             10  Never-married   \n",
       "9171    21   Private  250051  Some-college             10  Never-married   \n",
       "11631   20   Private  107658  Some-college             10  Never-married   \n",
       "13084   25   Private  195994       1st-4th              2  Never-married   \n",
       "\n",
       "            occupation   relationship                race     sex  \\\n",
       "4881      Craft-repair  Not-in-family               White    Male   \n",
       "5104     Other-service  Not-in-family  Asian-Pac-Islander    Male   \n",
       "9171    Prof-specialty      Own-child               White  Female   \n",
       "11631     Tech-support  Not-in-family               White  Female   \n",
       "13084  Priv-house-serv  Not-in-family               White  Female   \n",
       "\n",
       "       capital-gain  capital-loss  hours-per-week native-country income  \n",
       "4881              0             0              40         Mexico  <=50K  \n",
       "5104              0             0              35  United-States  <=50K  \n",
       "9171              0             0              10  United-States  <=50K  \n",
       "11631             0             0              10  United-States  <=50K  \n",
       "13084             0             0              40      Guatemala  <=50K  "
      ]
     },
     "execution_count": 3,
     "metadata": {},
     "output_type": "execute_result"
    }
   ],
   "source": [
    "df_non_duplicated = df.drop_duplicates()\n",
    "\n",
    "print(\"Jumlah dataset asli: \", len(df.duplicated()))\n",
    "print(\"Jumlah data tanpa duplikat: \", len(df_non_duplicated))\n",
    "df.loc[df.duplicated()].head()"
   ]
  },
  {
   "cell_type": "markdown",
   "metadata": {},
   "source": [
    "## Bekerja dengan *Missing Values*"
   ]
  },
  {
   "cell_type": "markdown",
   "metadata": {},
   "source": [
    "### Menghapus Kolom"
   ]
  },
  {
   "cell_type": "code",
   "execution_count": 4,
   "metadata": {
    "tags": []
   },
   "outputs": [
    {
     "data": {
      "text/plain": [
       "Index(['age', 'fnlwgt', 'education', 'education-num', 'martial-status',\n",
       "       'occupation', 'relationship', 'race', 'sex', 'capital-gain',\n",
       "       'capital-loss', 'hours-per-week', 'native-country', 'income'],\n",
       "      dtype='object')"
      ]
     },
     "execution_count": 4,
     "metadata": {},
     "output_type": "execute_result"
    }
   ],
   "source": [
    "df_dropped = df.drop(\"workclass\", axis=1) \n",
    "df_dropped.columns "
   ]
  },
  {
   "cell_type": "markdown",
   "metadata": {},
   "source": [
    "### Menghapus Data Kosong"
   ]
  },
  {
   "cell_type": "code",
   "execution_count": 5,
   "metadata": {
    "tags": []
   },
   "outputs": [
    {
     "name": "stdout",
     "output_type": "stream",
     "text": [
      "Jumlah data sebelum dropna: 32561\n",
      "Jumlah data setelah dropna: 30162\n",
      "Jumlah data kosong berdasarkan atribut:\n",
      "Semua kolom:  ['age' 'workclass' 'fnlwgt' 'education' 'education-num' 'martial-status'\n",
      " 'occupation' 'relationship' 'race' 'sex' 'capital-gain' 'capital-loss'\n",
      " 'hours-per-week' 'native-country' 'income']\n"
     ]
    }
   ],
   "source": [
    "# Menghapus data kosong berdasarkan baris (axis=0)\n",
    "df_no_na = df.dropna(axis=0)\n",
    "\n",
    "print(\"Jumlah data sebelum dropna:\", len(df))\n",
    "print(\"Jumlah data setelah dropna:\", len(df_no_na))\n",
    "print(\"Jumlah data kosong berdasarkan atribut:\")\n",
    "print(\"Semua kolom: \", df_no_na.columns.values)"
   ]
  },
  {
   "cell_type": "code",
   "execution_count": 6,
   "metadata": {},
   "outputs": [
    {
     "name": "stdout",
     "output_type": "stream",
     "text": [
      "Jumlah data sebelum dropna: 32561\n",
      "Jumlah data setelah dropna: 32561\n",
      "Jumlah data kosong berdasarkan atribut:\n",
      "Semua kolom:  ['age' 'fnlwgt' 'education' 'education-num' 'martial-status'\n",
      " 'relationship' 'race' 'sex' 'capital-gain' 'capital-loss'\n",
      " 'hours-per-week' 'income']\n"
     ]
    }
   ],
   "source": [
    "# Menghapus data kosong berdasarkan kolom (axis=1)\n",
    "df_no_na = df.dropna(axis=1)\n",
    "\n",
    "print(\"Jumlah data sebelum dropna:\", len(df))\n",
    "print(\"Jumlah data setelah dropna:\", len(df_no_na))\n",
    "print(\"Jumlah data kosong berdasarkan atribut:\")\n",
    "print(\"Semua kolom: \", df_no_na.columns.values)"
   ]
  },
  {
   "cell_type": "markdown",
   "metadata": {},
   "source": [
    "### Mengisi Data Kosong"
   ]
  },
  {
   "cell_type": "code",
   "execution_count": 7,
   "metadata": {},
   "outputs": [],
   "source": [
    "# Mensimulasikan data yang kosong\n",
    "missing_rate = 0.20  # 20% data kosong\n",
    "original_data = df[\"age\"].dropna().values.astype(float).reshape(-1, 1)\n",
    "\n",
    "rng = np.random.default_rng(seed=42)\n",
    "random_mask = rng.choice([True, False], original_data.shape, p=[missing_rate, 1-missing_rate])\n",
    "missing_data = original_data.copy()\n",
    "missing_data[random_mask] = np.nan\n"
   ]
  },
  {
   "cell_type": "code",
   "execution_count": 8,
   "metadata": {},
   "outputs": [
    {
     "data": {
      "text/plain": [
       "<AxesSubplot:>"
      ]
     },
     "execution_count": 8,
     "metadata": {},
     "output_type": "execute_result"
    },
    {
     "data": {
      "image/png": "[encoded data removed]",
      "text/plain": [
       "<Figure size 360x144 with 2 Axes>"
      ]
     },
     "metadata": {
      "needs_background": "light"
     },
     "output_type": "display_data"
    }
   ],
   "source": [
    "fig, ax = plt.subplots(figsize=(5, 2))\n",
    "sns.heatmap(np.isnan(missing_data).T, xticklabels=False, ax=ax)"
   ]
  },
  {
   "cell_type": "code",
   "execution_count": 9,
   "metadata": {
    "tags": []
   },
   "outputs": [],
   "source": [
    "# Simple impute\n",
    "simple_imputer = SimpleImputer(strategy=\"median\")\n",
    "data_impute_simple = simple_imputer.fit_transform(missing_data)"
   ]
  },
  {
   "cell_type": "code",
   "execution_count": 10,
   "metadata": {
    "tags": []
   },
   "outputs": [],
   "source": [
    "# K-Nearest Neighbor impute\n",
    "knn_imputer = KNNImputer(n_neighbors=10)\n",
    "data_impute_knn = knn_imputer.fit_transform(missing_data)"
   ]
  },
  {
   "cell_type": "code",
   "execution_count": 11,
   "metadata": {},
   "outputs": [
    {
     "data": {
      "text/html": [
       "<div>\n",
       "<style scoped>\n",
       "    .dataframe tbody tr th:only-of-type {\n",
       "        vertical-align: middle;\n",
       "    }\n",
       "\n",
       "    .dataframe tbody tr th {\n",
       "        vertical-align: top;\n",
       "    }\n",
       "\n",
       "    .dataframe thead th {\n",
       "        text-align: right;\n",
       "    }\n",
       "</style>\n",
       "<table border=\"1\" class=\"dataframe\">\n",
       "  <thead>\n",
       "    <tr style=\"text-align: right;\">\n",
       "      <th></th>\n",
       "      <th>Metode</th>\n",
       "      <th>MAE</th>\n",
       "      <th>MSE</th>\n",
       "    </tr>\n",
       "  </thead>\n",
       "  <tbody>\n",
       "    <tr>\n",
       "      <th>0</th>\n",
       "      <td>Simple</td>\n",
       "      <td>2.233377</td>\n",
       "      <td>38.355794</td>\n",
       "    </tr>\n",
       "    <tr>\n",
       "      <th>1</th>\n",
       "      <td>KNN</td>\n",
       "      <td>2.243569</td>\n",
       "      <td>37.719419</td>\n",
       "    </tr>\n",
       "  </tbody>\n",
       "</table>\n",
       "</div>"
      ],
      "text/plain": [
       "   Metode       MAE        MSE\n",
       "0  Simple  2.233377  38.355794\n",
       "1     KNN  2.243569  37.719419"
      ]
     },
     "execution_count": 11,
     "metadata": {},
     "output_type": "execute_result"
    },
    {
     "data": {
      "image/png": "[encoded data removed]",
      "text/plain": [
       "<Figure size 1008x576 with 4 Axes>"
      ]
     },
     "metadata": {
      "needs_background": "light"
     },
     "output_type": "display_data"
    }
   ],
   "source": [
    "plt.figure(figsize=(14, 8))\n",
    "\n",
    "ax1 = plt.subplot(2, 2, 1)\n",
    "ax1.set_title(\"Data Asli\")\n",
    "sns.histplot(original_data, bins=20, ax=ax1)\n",
    "\n",
    "ax2 = plt.subplot(2, 2, 2)\n",
    "ax2.set_title(\"Data dengan Nilai Kosong\")\n",
    "sns.histplot(missing_data, bins=20, ax=ax2)\n",
    "\n",
    "ax3 = plt.subplot(2, 2, 3)\n",
    "ax3.set_title(\"Simple Impute\")\n",
    "sns.histplot(data_impute_simple, bins=20, ax=ax3)\n",
    "\n",
    "ax4 = plt.subplot(2, 2, 4)\n",
    "ax4.set_title(\"KNN Impute\")\n",
    "sns.histplot(data_impute_knn, bins=20, ax=ax4)\n",
    "\n",
    "pd.DataFrame({\n",
    "    \"Metode\": [\"Simple\", \"KNN\"],\n",
    "    \"MAE\": [mean_absolute_error(original_data, data_impute_simple), mean_absolute_error(original_data, data_impute_knn)],\n",
    "    \"MSE\": [mean_squared_error(original_data, data_impute_simple), mean_squared_error(original_data, data_impute_knn)],\n",
    "})"
   ]
  },
  {
   "cell_type": "markdown",
   "metadata": {},
   "source": [
    "## Over-sampling/Under-sampling Data"
   ]
  },
  {
   "cell_type": "code",
   "execution_count": 12,
   "metadata": {},
   "outputs": [
    {
     "data": {
      "text/plain": [
       "<=50K    24720\n",
       ">50K      7841\n",
       "Name: income, dtype: int64"
      ]
     },
     "execution_count": 12,
     "metadata": {},
     "output_type": "execute_result"
    }
   ],
   "source": [
    "df[\"income\"].value_counts()"
   ]
  },
  {
   "cell_type": "code",
   "execution_count": 13,
   "metadata": {},
   "outputs": [
    {
     "data": {
      "text/plain": [
       "<=50K    24720\n",
       ">50K     24720\n",
       "Name: income, dtype: int64"
      ]
     },
     "execution_count": 13,
     "metadata": {},
     "output_type": "execute_result"
    }
   ],
   "source": [
    "# Upsampling\n",
    "df_majority = df[df[\"income\"] == \"<=50K\"]\n",
    "df_minority = df[df[\"income\"] == \">50K\"]\n",
    "\n",
    "df_resampled = resample(df_minority, replace=True, n_samples=len(df_majority), random_state=42)\n",
    "df_upsampled = pd.concat([df_majority, df_resampled])\n",
    "\n",
    "df_upsampled[\"income\"].value_counts()"
   ]
  },
  {
   "cell_type": "code",
   "execution_count": 14,
   "metadata": {},
   "outputs": [
    {
     "data": {
      "text/plain": [
       "<=50K    7841\n",
       ">50K     7841\n",
       "Name: income, dtype: int64"
      ]
     },
     "execution_count": 14,
     "metadata": {},
     "output_type": "execute_result"
    }
   ],
   "source": [
    "# Downsampling\n",
    "df_majority = df[df[\"income\"] == \"<=50K\"]\n",
    "df_minority = df[df[\"income\"] == \">50K\"]\n",
    "\n",
    "df_resampled = resample(df_majority, replace=False, n_samples=len(df_minority), random_state=42)\n",
    "df_downsampled = pd.concat([df_resampled, df_minority])\n",
    "\n",
    "df_downsampled[\"income\"].value_counts()"
   ]
  },
  {
   "cell_type": "markdown",
   "metadata": {},
   "source": [
    "## Normalisasi Data"
   ]
  },
  {
   "cell_type": "code",
   "execution_count": 15,
   "metadata": {
    "tags": []
   },
   "outputs": [
    {
     "name": "stdout",
     "output_type": "stream",
     "text": [
      "Sebelum distandarisasi:\n",
      "[39 50 38 53 28]\n",
      "Setelah distandarisasi (standard scaler):\n",
      "[ 0.03067056  0.83710898 -0.04264203  1.05704673 -0.77576787]\n",
      "Setelah distandarisasi (minmax scaler):\n",
      "[0.30136986 0.45205479 0.28767123 0.49315068 0.15068493]\n"
     ]
    }
   ],
   "source": [
    "data_to_scale = df[\"age\"].values.reshape(-1, 1)\n",
    "\n",
    "standard_scaler = StandardScaler()\n",
    "standard_scaler_output = standard_scaler.fit_transform(data_to_scale)\n",
    "\n",
    "minmax_scaler = MinMaxScaler()\n",
    "minmax_scaler_output = minmax_scaler.fit_transform(data_to_scale)\n",
    "\n",
    "print(\"Sebelum distandarisasi:\")\n",
    "print(data_to_scale[0:5].ravel())\n",
    "print(\"Setelah distandarisasi (standard scaler):\")\n",
    "print(standard_scaler_output[0:5].ravel())\n",
    "print(\"Setelah distandarisasi (minmax scaler):\")\n",
    "print(minmax_scaler_output[0:5].ravel())"
   ]
  },
  {
   "cell_type": "markdown",
   "metadata": {},
   "source": [
    "## Feature Construction pada DataFrame"
   ]
  },
  {
   "cell_type": "code",
   "execution_count": 16,
   "metadata": {
    "tags": []
   },
   "outputs": [
    {
     "data": {
      "text/html": [
       "<div>\n",
       "<style scoped>\n",
       "    .dataframe tbody tr th:only-of-type {\n",
       "        vertical-align: middle;\n",
       "    }\n",
       "\n",
       "    .dataframe tbody tr th {\n",
       "        vertical-align: top;\n",
       "    }\n",
       "\n",
       "    .dataframe thead th {\n",
       "        text-align: right;\n",
       "    }\n",
       "</style>\n",
       "<table border=\"1\" class=\"dataframe\">\n",
       "  <thead>\n",
       "    <tr style=\"text-align: right;\">\n",
       "      <th></th>\n",
       "      <th>age</th>\n",
       "      <th>workclass</th>\n",
       "      <th>fnlwgt</th>\n",
       "      <th>education</th>\n",
       "      <th>education-num</th>\n",
       "      <th>martial-status</th>\n",
       "      <th>occupation</th>\n",
       "      <th>relationship</th>\n",
       "      <th>race</th>\n",
       "      <th>sex</th>\n",
       "      <th>capital-gain</th>\n",
       "      <th>capital-loss</th>\n",
       "      <th>hours-per-week</th>\n",
       "      <th>native-country</th>\n",
       "      <th>income</th>\n",
       "      <th>pay-per-hours</th>\n",
       "      <th>is-married</th>\n",
       "    </tr>\n",
       "  </thead>\n",
       "  <tbody>\n",
       "    <tr>\n",
       "      <th>0</th>\n",
       "      <td>39</td>\n",
       "      <td>State-gov</td>\n",
       "      <td>77516</td>\n",
       "      <td>Bachelors</td>\n",
       "      <td>13</td>\n",
       "      <td>Never-married</td>\n",
       "      <td>Adm-clerical</td>\n",
       "      <td>Not-in-family</td>\n",
       "      <td>White</td>\n",
       "      <td>Male</td>\n",
       "      <td>2174</td>\n",
       "      <td>0</td>\n",
       "      <td>40</td>\n",
       "      <td>United-States</td>\n",
       "      <td>&lt;=50K</td>\n",
       "      <td>54.35</td>\n",
       "      <td>False</td>\n",
       "    </tr>\n",
       "    <tr>\n",
       "      <th>1</th>\n",
       "      <td>50</td>\n",
       "      <td>Self-emp-not-inc</td>\n",
       "      <td>83311</td>\n",
       "      <td>Bachelors</td>\n",
       "      <td>13</td>\n",
       "      <td>Married-civ-spouse</td>\n",
       "      <td>Exec-managerial</td>\n",
       "      <td>Husband</td>\n",
       "      <td>White</td>\n",
       "      <td>Male</td>\n",
       "      <td>0</td>\n",
       "      <td>0</td>\n",
       "      <td>13</td>\n",
       "      <td>United-States</td>\n",
       "      <td>&lt;=50K</td>\n",
       "      <td>0.00</td>\n",
       "      <td>True</td>\n",
       "    </tr>\n",
       "    <tr>\n",
       "      <th>2</th>\n",
       "      <td>38</td>\n",
       "      <td>Private</td>\n",
       "      <td>215646</td>\n",
       "      <td>HS-grad</td>\n",
       "      <td>9</td>\n",
       "      <td>Divorced</td>\n",
       "      <td>Handlers-cleaners</td>\n",
       "      <td>Not-in-family</td>\n",
       "      <td>White</td>\n",
       "      <td>Male</td>\n",
       "      <td>0</td>\n",
       "      <td>0</td>\n",
       "      <td>40</td>\n",
       "      <td>United-States</td>\n",
       "      <td>&lt;=50K</td>\n",
       "      <td>0.00</td>\n",
       "      <td>False</td>\n",
       "    </tr>\n",
       "    <tr>\n",
       "      <th>3</th>\n",
       "      <td>53</td>\n",
       "      <td>Private</td>\n",
       "      <td>234721</td>\n",
       "      <td>11th</td>\n",
       "      <td>7</td>\n",
       "      <td>Married-civ-spouse</td>\n",
       "      <td>Handlers-cleaners</td>\n",
       "      <td>Husband</td>\n",
       "      <td>Black</td>\n",
       "      <td>Male</td>\n",
       "      <td>0</td>\n",
       "      <td>0</td>\n",
       "      <td>40</td>\n",
       "      <td>United-States</td>\n",
       "      <td>&lt;=50K</td>\n",
       "      <td>0.00</td>\n",
       "      <td>True</td>\n",
       "    </tr>\n",
       "    <tr>\n",
       "      <th>4</th>\n",
       "      <td>28</td>\n",
       "      <td>Private</td>\n",
       "      <td>338409</td>\n",
       "      <td>Bachelors</td>\n",
       "      <td>13</td>\n",
       "      <td>Married-civ-spouse</td>\n",
       "      <td>Prof-specialty</td>\n",
       "      <td>Wife</td>\n",
       "      <td>Black</td>\n",
       "      <td>Female</td>\n",
       "      <td>0</td>\n",
       "      <td>0</td>\n",
       "      <td>40</td>\n",
       "      <td>Cuba</td>\n",
       "      <td>&lt;=50K</td>\n",
       "      <td>0.00</td>\n",
       "      <td>True</td>\n",
       "    </tr>\n",
       "  </tbody>\n",
       "</table>\n",
       "</div>"
      ],
      "text/plain": [
       "   age         workclass  fnlwgt  education  education-num  \\\n",
       "0   39         State-gov   77516  Bachelors             13   \n",
       "1   50  Self-emp-not-inc   83311  Bachelors             13   \n",
       "2   38           Private  215646    HS-grad              9   \n",
       "3   53           Private  234721       11th              7   \n",
       "4   28           Private  338409  Bachelors             13   \n",
       "\n",
       "       martial-status         occupation   relationship   race     sex  \\\n",
       "0       Never-married       Adm-clerical  Not-in-family  White    Male   \n",
       "1  Married-civ-spouse    Exec-managerial        Husband  White    Male   \n",
       "2            Divorced  Handlers-cleaners  Not-in-family  White    Male   \n",
       "3  Married-civ-spouse  Handlers-cleaners        Husband  Black    Male   \n",
       "4  Married-civ-spouse     Prof-specialty           Wife  Black  Female   \n",
       "\n",
       "   capital-gain  capital-loss  hours-per-week native-country income  \\\n",
       "0          2174             0              40  United-States  <=50K   \n",
       "1             0             0              13  United-States  <=50K   \n",
       "2             0             0              40  United-States  <=50K   \n",
       "3             0             0              40  United-States  <=50K   \n",
       "4             0             0              40           Cuba  <=50K   \n",
       "\n",
       "   pay-per-hours  is-married  \n",
       "0          54.35       False  \n",
       "1           0.00        True  \n",
       "2           0.00       False  \n",
       "3           0.00        True  \n",
       "4           0.00        True  "
      ]
     },
     "execution_count": 16,
     "metadata": {},
     "output_type": "execute_result"
    }
   ],
   "source": [
    "df_features = df.copy()\n",
    "df_features[\"pay-per-hours\"] = df_features[\"capital-gain\"] / df_features[\"hours-per-week\"]\n",
    "df_features[\"is-married\"] = df_features[\"martial-status\"].str.contains(\"[Mm]arried\") & ~df_features[\"martial-status\"].str.contains(\"[Nn]ever-[Mm]arried\")\n",
    "df_features.head()"
   ]
  },
  {
   "cell_type": "markdown",
   "metadata": {},
   "source": [
    "## Pengkodean Data Kategorik"
   ]
  },
  {
   "cell_type": "code",
   "execution_count": 17,
   "metadata": {},
   "outputs": [],
   "source": [
    "X = df.iloc[:, :-1].values\n",
    "y = df.iloc[:, -1].values"
   ]
  },
  {
   "cell_type": "markdown",
   "metadata": {},
   "source": [
    "### Label Encoding"
   ]
  },
  {
   "cell_type": "code",
   "execution_count": 18,
   "metadata": {
    "tags": []
   },
   "outputs": [
    {
     "name": "stdout",
     "output_type": "stream",
     "text": [
      "Sampel hasil pengkodean:  [0 0 0 0 0]\n"
     ]
    },
    {
     "data": {
      "text/plain": [
       "{'<=50K': 0, '>50K': 1}"
      ]
     },
     "execution_count": 18,
     "metadata": {},
     "output_type": "execute_result"
    }
   ],
   "source": [
    "encoder = LabelEncoder()\n",
    "y_encoded = encoder.fit_transform(y)\n",
    "\n",
    "print(\"Sampel hasil pengkodean: \", y_encoded[0:5])\n",
    "dict(zip(encoder.classes_, encoder.transform(encoder.classes_)))"
   ]
  },
  {
   "cell_type": "markdown",
   "metadata": {},
   "source": [
    "### Ordinal Encoding"
   ]
  },
  {
   "cell_type": "code",
   "execution_count": 19,
   "metadata": {},
   "outputs": [
    {
     "name": "stdout",
     "output_type": "stream",
     "text": [
      "Sampel hasil pengkodean:  [0. 0. 0. 0. 0.]\n"
     ]
    },
    {
     "data": {
      "text/plain": [
       "{'<=50K': 0, '>50K': 1}"
      ]
     },
     "execution_count": 19,
     "metadata": {},
     "output_type": "execute_result"
    }
   ],
   "source": [
    "encoder = OrdinalEncoder()\n",
    "\n",
    "y_reshape = y.reshape(-1, 1)\n",
    "y_encoded = encoder.fit_transform(y_reshape)\n",
    "ordinal_categories = encoder.categories_[0]\n",
    "\n",
    "print(\"Sampel hasil pengkodean: \", y_encoded[0:5].ravel())\n",
    "dict(zip(ordinal_categories, range(0, len(ordinal_categories))))"
   ]
  },
  {
   "cell_type": "markdown",
   "metadata": {},
   "source": [
    "### One-Hot Encoding"
   ]
  },
  {
   "cell_type": "code",
   "execution_count": 20,
   "metadata": {
    "tags": []
   },
   "outputs": [
    {
     "name": "stdout",
     "output_type": "stream",
     "text": [
      "Sampel hasil pengkodean:  [[1.0, 0.0], [1.0, 0.0], [1.0, 0.0], [1.0, 0.0], [1.0, 0.0]]\n",
      "[(0, 'x0_<=50K'), (1, 'x0_>50K')]\n"
     ]
    }
   ],
   "source": [
    "encoder = OneHotEncoder()\n",
    "\n",
    "y_reshape = y.reshape(-1, 1)\n",
    "y_encoded = encoder.fit_transform(y_reshape)\n",
    "\n",
    "print(\"Sampel hasil pengkodean: \", y_encoded[0:5].toarray().tolist())\n",
    "print([x for x in enumerate(encoder.get_feature_names_out())])"
   ]
  },
  {
   "cell_type": "markdown",
   "metadata": {},
   "source": [
    "## Column Transformation Pipeline"
   ]
  },
  {
   "cell_type": "code",
   "execution_count": 21,
   "metadata": {},
   "outputs": [
    {
     "data": {
      "text/html": [
       "<style>#sk-348de246-9ed2-4ab2-b6f0-d4507cd44e33 {color: black;background-color: white;}#sk-348de246-9ed2-4ab2-b6f0-d4507cd44e33 pre{padding: 0;}#sk-348de246-9ed2-4ab2-b6f0-d4507cd44e33 div.sk-toggleable {background-color: white;}#sk-348de246-9ed2-4ab2-b6f0-d4507cd44e33 label.sk-toggleable__label {cursor: pointer;display: block;width: 100%;margin-bottom: 0;padding: 0.3em;box-sizing: border-box;text-align: center;}#sk-348de246-9ed2-4ab2-b6f0-d4507cd44e33 label.sk-toggleable__label-arrow:before {content: \"▸\";float: left;margin-right: 0.25em;color: #696969;}#sk-348de246-9ed2-4ab2-b6f0-d4507cd44e33 label.sk-toggleable__label-arrow:hover:before {color: black;}#sk-348de246-9ed2-4ab2-b6f0-d4507cd44e33 div.sk-estimator:hover label.sk-toggleable__label-arrow:before {color: black;}#sk-348de246-9ed2-4ab2-b6f0-d4507cd44e33 div.sk-toggleable__content {max-height: 0;max-width: 0;overflow: hidden;text-align: left;background-color: #f0f8ff;}#sk-348de246-9ed2-4ab2-b6f0-d4507cd44e33 div.sk-toggleable__content pre {margin: 0.2em;color: black;border-radius: 0.25em;background-color: #f0f8ff;}#sk-348de246-9ed2-4ab2-b6f0-d4507cd44e33 input.sk-toggleable__control:checked~div.sk-toggleable__content {max-height: 200px;max-width: 100%;overflow: auto;}#sk-348de246-9ed2-4ab2-b6f0-d4507cd44e33 input.sk-toggleable__control:checked~label.sk-toggleable__label-arrow:before {content: \"▾\";}#sk-348de246-9ed2-4ab2-b6f0-d4507cd44e33 div.sk-estimator input.sk-toggleable__control:checked~label.sk-toggleable__label {background-color: #d4ebff;}#sk-348de246-9ed2-4ab2-b6f0-d4507cd44e33 div.sk-label input.sk-toggleable__control:checked~label.sk-toggleable__label {background-color: #d4ebff;}#sk-348de246-9ed2-4ab2-b6f0-d4507cd44e33 input.sk-hidden--visually {border: 0;clip: rect(1px 1px 1px 1px);clip: rect(1px, 1px, 1px, 1px);height: 1px;margin: -1px;overflow: hidden;padding: 0;position: absolute;width: 1px;}#sk-348de246-9ed2-4ab2-b6f0-d4507cd44e33 div.sk-estimator {font-family: monospace;background-color: #f0f8ff;border: 1px dotted black;border-radius: 0.25em;box-sizing: border-box;margin-bottom: 0.5em;}#sk-348de246-9ed2-4ab2-b6f0-d4507cd44e33 div.sk-estimator:hover {background-color: #d4ebff;}#sk-348de246-9ed2-4ab2-b6f0-d4507cd44e33 div.sk-parallel-item::after {content: \"\";width: 100%;border-bottom: 1px solid gray;flex-grow: 1;}#sk-348de246-9ed2-4ab2-b6f0-d4507cd44e33 div.sk-label:hover label.sk-toggleable__label {background-color: #d4ebff;}#sk-348de246-9ed2-4ab2-b6f0-d4507cd44e33 div.sk-serial::before {content: \"\";position: absolute;border-left: 1px solid gray;box-sizing: border-box;top: 2em;bottom: 0;left: 50%;}#sk-348de246-9ed2-4ab2-b6f0-d4507cd44e33 div.sk-serial {display: flex;flex-direction: column;align-items: center;background-color: white;padding-right: 0.2em;padding-left: 0.2em;}#sk-348de246-9ed2-4ab2-b6f0-d4507cd44e33 div.sk-item {z-index: 1;}#sk-348de246-9ed2-4ab2-b6f0-d4507cd44e33 div.sk-parallel {display: flex;align-items: stretch;justify-content: center;background-color: white;}#sk-348de246-9ed2-4ab2-b6f0-d4507cd44e33 div.sk-parallel::before {content: \"\";position: absolute;border-left: 1px solid gray;box-sizing: border-box;top: 2em;bottom: 0;left: 50%;}#sk-348de246-9ed2-4ab2-b6f0-d4507cd44e33 div.sk-parallel-item {display: flex;flex-direction: column;position: relative;background-color: white;}#sk-348de246-9ed2-4ab2-b6f0-d4507cd44e33 div.sk-parallel-item:first-child::after {align-self: flex-end;width: 50%;}#sk-348de246-9ed2-4ab2-b6f0-d4507cd44e33 div.sk-parallel-item:last-child::after {align-self: flex-start;width: 50%;}#sk-348de246-9ed2-4ab2-b6f0-d4507cd44e33 div.sk-parallel-item:only-child::after {width: 0;}#sk-348de246-9ed2-4ab2-b6f0-d4507cd44e33 div.sk-dashed-wrapped {border: 1px dashed gray;margin: 0 0.4em 0.5em 0.4em;box-sizing: border-box;padding-bottom: 0.4em;background-color: white;position: relative;}#sk-348de246-9ed2-4ab2-b6f0-d4507cd44e33 div.sk-label label {font-family: monospace;font-weight: bold;background-color: white;display: inline-block;line-height: 1.2em;}#sk-348de246-9ed2-4ab2-b6f0-d4507cd44e33 div.sk-label-container {position: relative;z-index: 2;text-align: center;}#sk-348de246-9ed2-4ab2-b6f0-d4507cd44e33 div.sk-container {/* jupyter's `normalize.less` sets `[hidden] { display: none; }` but bootstrap.min.css set `[hidden] { display: none !important; }` so we also need the `!important` here to be able to override the default hidden behavior on the sphinx rendered scikit-learn.org. See: https://github.com/scikit-learn/scikit-learn/issues/21755 */display: inline-block !important;position: relative;}#sk-348de246-9ed2-4ab2-b6f0-d4507cd44e33 div.sk-text-repr-fallback {display: none;}</style><div id=\"sk-348de246-9ed2-4ab2-b6f0-d4507cd44e33\" class=\"sk-top-container\"><div class=\"sk-text-repr-fallback\"><pre>ColumnTransformer(transformers=[(&#x27;encode-categorical-nominal&#x27;,\n",
       "                                 Pipeline(steps=[(&#x27;impute-missing&#x27;,\n",
       "                                                  SimpleImputer(strategy=&#x27;most_frequent&#x27;)),\n",
       "                                                 (&#x27;encode-nominal&#x27;,\n",
       "                                                  OneHotEncoder(handle_unknown=&#x27;ignore&#x27;))]),\n",
       "                                 [1, 5, 6, 7, 8, 9, 13]),\n",
       "                                (&#x27;encode-categorical-ordinal&#x27;,\n",
       "                                 OrdinalEncoder(handle_unknown=&#x27;use_encoded_value&#x27;,\n",
       "                                                unknown_value=-1),\n",
       "                                 [3]),\n",
       "                                (&#x27;scale-numerical&#x27;, MinMaxScaler(),\n",
       "                                 [0, 2, 10, 11, 12])])</pre><b>Please rerun this cell to show the HTML repr or trust the notebook.</b></div><div class=\"sk-container\" hidden><div class=\"sk-item sk-dashed-wrapped\"><div class=\"sk-label-container\"><div class=\"sk-label sk-toggleable\"><input class=\"sk-toggleable__control sk-hidden--visually\" id=\"f79a7594-b9fb-415f-b2b3-22c5ea33e57d\" type=\"checkbox\" ><label for=\"f79a7594-b9fb-415f-b2b3-22c5ea33e57d\" class=\"sk-toggleable__label sk-toggleable__label-arrow\">ColumnTransformer</label><div class=\"sk-toggleable__content\"><pre>ColumnTransformer(transformers=[(&#x27;encode-categorical-nominal&#x27;,\n",
       "                                 Pipeline(steps=[(&#x27;impute-missing&#x27;,\n",
       "                                                  SimpleImputer(strategy=&#x27;most_frequent&#x27;)),\n",
       "                                                 (&#x27;encode-nominal&#x27;,\n",
       "                                                  OneHotEncoder(handle_unknown=&#x27;ignore&#x27;))]),\n",
       "                                 [1, 5, 6, 7, 8, 9, 13]),\n",
       "                                (&#x27;encode-categorical-ordinal&#x27;,\n",
       "                                 OrdinalEncoder(handle_unknown=&#x27;use_encoded_value&#x27;,\n",
       "                                                unknown_value=-1),\n",
       "                                 [3]),\n",
       "                                (&#x27;scale-numerical&#x27;, MinMaxScaler(),\n",
       "                                 [0, 2, 10, 11, 12])])</pre></div></div></div><div class=\"sk-parallel\"><div class=\"sk-parallel-item\"><div class=\"sk-item\"><div class=\"sk-label-container\"><div class=\"sk-label sk-toggleable\"><input class=\"sk-toggleable__control sk-hidden--visually\" id=\"7c7fd159-c670-4afc-b2b0-3fd448a999ac\" type=\"checkbox\" ><label for=\"7c7fd159-c670-4afc-b2b0-3fd448a999ac\" class=\"sk-toggleable__label sk-toggleable__label-arrow\">encode-categorical-nominal</label><div class=\"sk-toggleable__content\"><pre>[1, 5, 6, 7, 8, 9, 13]</pre></div></div></div><div class=\"sk-serial\"><div class=\"sk-item\"><div class=\"sk-serial\"><div class=\"sk-item\"><div class=\"sk-estimator sk-toggleable\"><input class=\"sk-toggleable__control sk-hidden--visually\" id=\"f301c973-61cb-4166-a330-ca00216af294\" type=\"checkbox\" ><label for=\"f301c973-61cb-4166-a330-ca00216af294\" class=\"sk-toggleable__label sk-toggleable__label-arrow\">SimpleImputer</label><div class=\"sk-toggleable__content\"><pre>SimpleImputer(strategy=&#x27;most_frequent&#x27;)</pre></div></div></div><div class=\"sk-item\"><div class=\"sk-estimator sk-toggleable\"><input class=\"sk-toggleable__control sk-hidden--visually\" id=\"5ebfeb50-4080-443f-89b7-851978de9ffd\" type=\"checkbox\" ><label for=\"5ebfeb50-4080-443f-89b7-851978de9ffd\" class=\"sk-toggleable__label sk-toggleable__label-arrow\">OneHotEncoder</label><div class=\"sk-toggleable__content\"><pre>OneHotEncoder(handle_unknown=&#x27;ignore&#x27;)</pre></div></div></div></div></div></div></div></div><div class=\"sk-parallel-item\"><div class=\"sk-item\"><div class=\"sk-label-container\"><div class=\"sk-label sk-toggleable\"><input class=\"sk-toggleable__control sk-hidden--visually\" id=\"89d00d26-2749-4379-b190-06cf653555a1\" type=\"checkbox\" ><label for=\"89d00d26-2749-4379-b190-06cf653555a1\" class=\"sk-toggleable__label sk-toggleable__label-arrow\">encode-categorical-ordinal</label><div class=\"sk-toggleable__content\"><pre>[3]</pre></div></div></div><div class=\"sk-serial\"><div class=\"sk-item\"><div class=\"sk-estimator sk-toggleable\"><input class=\"sk-toggleable__control sk-hidden--visually\" id=\"318ba093-a927-420d-ae3e-bca182fd7e9c\" type=\"checkbox\" ><label for=\"318ba093-a927-420d-ae3e-bca182fd7e9c\" class=\"sk-toggleable__label sk-toggleable__label-arrow\">OrdinalEncoder</label><div class=\"sk-toggleable__content\"><pre>OrdinalEncoder(handle_unknown=&#x27;use_encoded_value&#x27;, unknown_value=-1)</pre></div></div></div></div></div></div><div class=\"sk-parallel-item\"><div class=\"sk-item\"><div class=\"sk-label-container\"><div class=\"sk-label sk-toggleable\"><input class=\"sk-toggleable__control sk-hidden--visually\" id=\"d56a2a6d-6ede-4293-a8a9-4337fbab444a\" type=\"checkbox\" ><label for=\"d56a2a6d-6ede-4293-a8a9-4337fbab444a\" class=\"sk-toggleable__label sk-toggleable__label-arrow\">scale-numerical</label><div class=\"sk-toggleable__content\"><pre>[0, 2, 10, 11, 12]</pre></div></div></div><div class=\"sk-serial\"><div class=\"sk-item\"><div class=\"sk-estimator sk-toggleable\"><input class=\"sk-toggleable__control sk-hidden--visually\" id=\"4f071a37-ae87-4f76-ad27-7f765d467243\" type=\"checkbox\" ><label for=\"4f071a37-ae87-4f76-ad27-7f765d467243\" class=\"sk-toggleable__label sk-toggleable__label-arrow\">MinMaxScaler</label><div class=\"sk-toggleable__content\"><pre>MinMaxScaler()</pre></div></div></div></div></div></div></div></div></div></div>"
      ],
      "text/plain": [
       "ColumnTransformer(transformers=[('encode-categorical-nominal',\n",
       "                                 Pipeline(steps=[('impute-missing',\n",
       "                                                  SimpleImputer(strategy='most_frequent')),\n",
       "                                                 ('encode-nominal',\n",
       "                                                  OneHotEncoder(handle_unknown='ignore'))]),\n",
       "                                 [1, 5, 6, 7, 8, 9, 13]),\n",
       "                                ('encode-categorical-ordinal',\n",
       "                                 OrdinalEncoder(handle_unknown='use_encoded_value',\n",
       "                                                unknown_value=-1),\n",
       "                                 [3]),\n",
       "                                ('scale-numerical', MinMaxScaler(),\n",
       "                                 [0, 2, 10, 11, 12])])"
      ]
     },
     "execution_count": 21,
     "metadata": {},
     "output_type": "execute_result"
    }
   ],
   "source": [
    "numerical_cols = [0, 2, 10, 11, 12]\n",
    "categorical_ordinal_cols = [3]\n",
    "categorical_nominal_cols = [1, 5, 6, 7, 8, 9, 13]\n",
    "\n",
    "impute_categorical_enc  = SimpleImputer(strategy=\"most_frequent\")\n",
    "onehot_categorical_enc  = OneHotEncoder(handle_unknown=\"ignore\")\n",
    "ordinal_categorical_enc = OrdinalEncoder(handle_unknown=\"use_encoded_value\", unknown_value=-1)\n",
    "numerical_scaler_enc    = MinMaxScaler()\n",
    "\n",
    "ct = ColumnTransformer([\n",
    "    (\"encode-categorical-nominal\", Pipeline(steps=[\n",
    "        (\"impute-missing\", impute_categorical_enc),\n",
    "        (\"encode-nominal\", onehot_categorical_enc)\n",
    "    ]), categorical_nominal_cols),\n",
    "    (\"encode-categorical-ordinal\", ordinal_categorical_enc, categorical_ordinal_cols),\n",
    "    (\"scale-numerical\", MinMaxScaler(), numerical_cols)\n",
    "])\n",
    "\n",
    "ct.fit(X)"
   ]
  },
  {
   "cell_type": "code",
   "execution_count": 22,
   "metadata": {},
   "outputs": [
    {
     "name": "stdout",
     "output_type": "stream",
     "text": [
      "Input:\n",
      " [[39 'State-gov' 77516 'Bachelors' 13 'Never-married' 'Adm-clerical'\n",
      "  'Not-in-family' 'White' 'Male' 2174 0 40 'United-States']]\n",
      "Output:\n",
      " [[0.         0.         0.         0.         0.         0.\n",
      "  1.         0.         0.         0.         0.         0.\n",
      "  1.         0.         0.         1.         0.         0.\n",
      "  0.         0.         0.         0.         0.         0.\n",
      "  0.         0.         0.         0.         0.         0.\n",
      "  1.         0.         0.         0.         0.         0.\n",
      "  0.         0.         0.         1.         0.         1.\n",
      "  0.         0.         0.         0.         0.         0.\n",
      "  0.         0.         0.         0.         0.         0.\n",
      "  0.         0.         0.         0.         0.         0.\n",
      "  0.         0.         0.         0.         0.         0.\n",
      "  0.         0.         0.         0.         0.         0.\n",
      "  0.         0.         0.         0.         0.         0.\n",
      "  0.         0.         1.         0.         0.         9.\n",
      "  0.30136986 0.0443019  0.02174022 0.         0.39795918]]\n"
     ]
    }
   ],
   "source": [
    "print(\"Input:\\n\", X[0:1])\n",
    "print(\"Output:\\n\", ct.transform(X[0:1]).toarray())"
   ]
  },
  {
   "cell_type": "markdown",
   "metadata": {},
   "source": [
    "## Feature Selection"
   ]
  },
  {
   "cell_type": "code",
   "execution_count": 23,
   "metadata": {},
   "outputs": [],
   "source": [
    "xx = X[:100, numerical_cols]\n",
    "yy = y[:100]"
   ]
  },
  {
   "cell_type": "code",
   "execution_count": 24,
   "metadata": {},
   "outputs": [
    {
     "data": {
      "image/png": "[encoded data removed]",
      "text/plain": [
       "<Figure size 432x288 with 1 Axes>"
      ]
     },
     "metadata": {
      "needs_background": "light"
     },
     "output_type": "display_data"
    }
   ],
   "source": [
    "infogain_result = mutual_info_classif(xx, yy, random_state=42)\n",
    "bars = plt.bar(df.columns[numerical_cols], infogain_result)\n",
    "\n",
    "plt.ylim(0, max(infogain_result) * 1.1)\n",
    "plt.bar_label(bars, fmt=\"%.2f\", padding=2)\n",
    "plt.tight_layout()"
   ]
  },
  {
   "cell_type": "code",
   "execution_count": 25,
   "metadata": {},
   "outputs": [
    {
     "data": {
      "image/png": "[encoded data removed]",
      "text/plain": [
       "<Figure size 432x288 with 1 Axes>"
      ]
     },
     "metadata": {
      "needs_background": "light"
     },
     "output_type": "display_data"
    }
   ],
   "source": [
    "chi2_result = chi2(xx, yy)\n",
    "\n",
    "bars = plt.bar(df.columns[numerical_cols], chi2_result[0])\n",
    "labels = [\"{0:.2f} (p={1:.2f})\".format(x, y) for x, y in zip(chi2_result[0], chi2_result[1])]\n",
    "\n",
    "plt.ylim(0, max(chi2_result[0]) * 1.1)\n",
    "plt.bar_label(bars, labels=labels, padding=2)\n",
    "plt.tight_layout()"
   ]
  },
  {
   "cell_type": "code",
   "execution_count": 26,
   "metadata": {},
   "outputs": [
    {
     "data": {
      "image/png": "[encoded data removed]",
      "text/plain": [
       "<Figure size 432x288 with 1 Axes>"
      ]
     },
     "metadata": {
      "needs_background": "light"
     },
     "output_type": "display_data"
    }
   ],
   "source": [
    "anova_result = f_classif(xx, yy)\n",
    "\n",
    "bars = plt.bar(df.columns[numerical_cols], anova_result[0])\n",
    "labels = [\"{0:.2f} (p={1:.2f})\".format(x, y) for x, y in zip(anova_result[0], anova_result[1])]\n",
    "\n",
    "plt.ylim(0, max(anova_result[0]) * 1.1)\n",
    "plt.bar_label(bars, labels=labels, padding=2)\n",
    "plt.tight_layout()"
   ]
  },
  {
   "cell_type": "code",
   "execution_count": 27,
   "metadata": {},
   "outputs": [
    {
     "data": {
      "image/png": "[encoded data removed]",
      "text/plain": [
       "<Figure size 432x288 with 1 Axes>"
      ]
     },
     "metadata": {
      "needs_background": "light"
     },
     "output_type": "display_data"
    }
   ],
   "source": [
    "tree_model = DecisionTreeClassifier()\n",
    "tree_model.fit(xx, yy)\n",
    "\n",
    "bars = plt.bar(df.columns[numerical_cols], tree_model.feature_importances_)\n",
    "\n",
    "plt.ylim(0, max(tree_model.feature_importances_) * 1.1)\n",
    "plt.bar_label(bars, fmt=\"%.2f\", padding=2)\n",
    "plt.tight_layout()"
   ]
  },
  {
   "cell_type": "markdown",
   "metadata": {},
   "source": [
    "## Reduksi Dimensi"
   ]
  },
  {
   "cell_type": "code",
   "execution_count": 28,
   "metadata": {},
   "outputs": [],
   "source": [
    "def plot_explained_variance(variances):\n",
    "    cum_sum_eig = np.cumsum(np.round(variances, decimals=3))\n",
    "\n",
    "    fig, ax = plt.subplots()\n",
    "\n",
    "    hbars = ax.bar(range(0, len(variances)), variances, alpha=0.5, align='center', label='Individual explained variance')\n",
    "    ax.step(range(0, len(cum_sum_eig)), cum_sum_eig, where='mid', label='Cumulative explained variance')\n",
    "\n",
    "    ax.bar_label(hbars, fmt='%.4f')\n",
    "    ax.set_ylabel('Explained variance ratio')\n",
    "    ax.set_xlabel('Principal component index')\n",
    "    ax.set_xticks(range(0, len(variances)))\n",
    "\n",
    "    fig.legend(loc='upper center', bbox_to_anchor=(0.5, -0.01), fancybox=True, shadow=True, ncol=5)\n",
    "    fig.tight_layout()"
   ]
  },
  {
   "cell_type": "code",
   "execution_count": 29,
   "metadata": {},
   "outputs": [
    {
     "data": {
      "text/html": [
       "<style>#sk-b3140949-76dc-456b-814f-b91f6901b926 {color: black;background-color: white;}#sk-b3140949-76dc-456b-814f-b91f6901b926 pre{padding: 0;}#sk-b3140949-76dc-456b-814f-b91f6901b926 div.sk-toggleable {background-color: white;}#sk-b3140949-76dc-456b-814f-b91f6901b926 label.sk-toggleable__label {cursor: pointer;display: block;width: 100%;margin-bottom: 0;padding: 0.3em;box-sizing: border-box;text-align: center;}#sk-b3140949-76dc-456b-814f-b91f6901b926 label.sk-toggleable__label-arrow:before {content: \"▸\";float: left;margin-right: 0.25em;color: #696969;}#sk-b3140949-76dc-456b-814f-b91f6901b926 label.sk-toggleable__label-arrow:hover:before {color: black;}#sk-b3140949-76dc-456b-814f-b91f6901b926 div.sk-estimator:hover label.sk-toggleable__label-arrow:before {color: black;}#sk-b3140949-76dc-456b-814f-b91f6901b926 div.sk-toggleable__content {max-height: 0;max-width: 0;overflow: hidden;text-align: left;background-color: #f0f8ff;}#sk-b3140949-76dc-456b-814f-b91f6901b926 div.sk-toggleable__content pre {margin: 0.2em;color: black;border-radius: 0.25em;background-color: #f0f8ff;}#sk-b3140949-76dc-456b-814f-b91f6901b926 input.sk-toggleable__control:checked~div.sk-toggleable__content {max-height: 200px;max-width: 100%;overflow: auto;}#sk-b3140949-76dc-456b-814f-b91f6901b926 input.sk-toggleable__control:checked~label.sk-toggleable__label-arrow:before {content: \"▾\";}#sk-b3140949-76dc-456b-814f-b91f6901b926 div.sk-estimator input.sk-toggleable__control:checked~label.sk-toggleable__label {background-color: #d4ebff;}#sk-b3140949-76dc-456b-814f-b91f6901b926 div.sk-label input.sk-toggleable__control:checked~label.sk-toggleable__label {background-color: #d4ebff;}#sk-b3140949-76dc-456b-814f-b91f6901b926 input.sk-hidden--visually {border: 0;clip: rect(1px 1px 1px 1px);clip: rect(1px, 1px, 1px, 1px);height: 1px;margin: -1px;overflow: hidden;padding: 0;position: absolute;width: 1px;}#sk-b3140949-76dc-456b-814f-b91f6901b926 div.sk-estimator {font-family: monospace;background-color: #f0f8ff;border: 1px dotted black;border-radius: 0.25em;box-sizing: border-box;margin-bottom: 0.5em;}#sk-b3140949-76dc-456b-814f-b91f6901b926 div.sk-estimator:hover {background-color: #d4ebff;}#sk-b3140949-76dc-456b-814f-b91f6901b926 div.sk-parallel-item::after {content: \"\";width: 100%;border-bottom: 1px solid gray;flex-grow: 1;}#sk-b3140949-76dc-456b-814f-b91f6901b926 div.sk-label:hover label.sk-toggleable__label {background-color: #d4ebff;}#sk-b3140949-76dc-456b-814f-b91f6901b926 div.sk-serial::before {content: \"\";position: absolute;border-left: 1px solid gray;box-sizing: border-box;top: 2em;bottom: 0;left: 50%;}#sk-b3140949-76dc-456b-814f-b91f6901b926 div.sk-serial {display: flex;flex-direction: column;align-items: center;background-color: white;padding-right: 0.2em;padding-left: 0.2em;}#sk-b3140949-76dc-456b-814f-b91f6901b926 div.sk-item {z-index: 1;}#sk-b3140949-76dc-456b-814f-b91f6901b926 div.sk-parallel {display: flex;align-items: stretch;justify-content: center;background-color: white;}#sk-b3140949-76dc-456b-814f-b91f6901b926 div.sk-parallel::before {content: \"\";position: absolute;border-left: 1px solid gray;box-sizing: border-box;top: 2em;bottom: 0;left: 50%;}#sk-b3140949-76dc-456b-814f-b91f6901b926 div.sk-parallel-item {display: flex;flex-direction: column;position: relative;background-color: white;}#sk-b3140949-76dc-456b-814f-b91f6901b926 div.sk-parallel-item:first-child::after {align-self: flex-end;width: 50%;}#sk-b3140949-76dc-456b-814f-b91f6901b926 div.sk-parallel-item:last-child::after {align-self: flex-start;width: 50%;}#sk-b3140949-76dc-456b-814f-b91f6901b926 div.sk-parallel-item:only-child::after {width: 0;}#sk-b3140949-76dc-456b-814f-b91f6901b926 div.sk-dashed-wrapped {border: 1px dashed gray;margin: 0 0.4em 0.5em 0.4em;box-sizing: border-box;padding-bottom: 0.4em;background-color: white;position: relative;}#sk-b3140949-76dc-456b-814f-b91f6901b926 div.sk-label label {font-family: monospace;font-weight: bold;background-color: white;display: inline-block;line-height: 1.2em;}#sk-b3140949-76dc-456b-814f-b91f6901b926 div.sk-label-container {position: relative;z-index: 2;text-align: center;}#sk-b3140949-76dc-456b-814f-b91f6901b926 div.sk-container {/* jupyter's `normalize.less` sets `[hidden] { display: none; }` but bootstrap.min.css set `[hidden] { display: none !important; }` so we also need the `!important` here to be able to override the default hidden behavior on the sphinx rendered scikit-learn.org. See: https://github.com/scikit-learn/scikit-learn/issues/21755 */display: inline-block !important;position: relative;}#sk-b3140949-76dc-456b-814f-b91f6901b926 div.sk-text-repr-fallback {display: none;}</style><div id=\"sk-b3140949-76dc-456b-814f-b91f6901b926\" class=\"sk-top-container\"><div class=\"sk-text-repr-fallback\"><pre>PCA(n_components=2, random_state=42)</pre><b>Please rerun this cell to show the HTML repr or trust the notebook.</b></div><div class=\"sk-container\" hidden><div class=\"sk-item\"><div class=\"sk-estimator sk-toggleable\"><input class=\"sk-toggleable__control sk-hidden--visually\" id=\"8b5427ca-832e-455f-b65a-360064faeecf\" type=\"checkbox\" checked><label for=\"8b5427ca-832e-455f-b65a-360064faeecf\" class=\"sk-toggleable__label sk-toggleable__label-arrow\">PCA</label><div class=\"sk-toggleable__content\"><pre>PCA(n_components=2, random_state=42)</pre></div></div></div></div></div>"
      ],
      "text/plain": [
       "PCA(n_components=2, random_state=42)"
      ]
     },
     "execution_count": 29,
     "metadata": {},
     "output_type": "execute_result"
    }
   ],
   "source": [
    "train_data_pca = X[:, numerical_cols]\n",
    "\n",
    "pca = PCA(n_components=2, random_state=42)\n",
    "pca.fit(train_data_pca)"
   ]
  },
  {
   "cell_type": "code",
   "execution_count": 30,
   "metadata": {},
   "outputs": [
    {
     "name": "stdout",
     "output_type": "stream",
     "text": [
      "Data sebelum reduksi dimensi\n",
      "[[39 77516 2174 0 40]]\n",
      "Data setelah reduksi dimensi\n",
      "[[-112262.3296609     1099.91709787]]\n"
     ]
    },
    {
     "data": {
      "image/png": "[encoded data removed]",
      "text/plain": [
       "<Figure size 432x288 with 1 Axes>"
      ]
     },
     "metadata": {
      "needs_background": "light"
     },
     "output_type": "display_data"
    }
   ],
   "source": [
    "print(\"Data sebelum reduksi dimensi\")\n",
    "print(train_data_pca[0:1])\n",
    "print(\"Data setelah reduksi dimensi\")\n",
    "print(pca.transform(train_data_pca[0:1]))\n",
    "\n",
    "plot_explained_variance(pca.explained_variance_ratio_)"
   ]
  },
  {
   "cell_type": "code",
   "execution_count": 31,
   "metadata": {},
   "outputs": [
    {
     "data": {
      "text/html": [
       "<style>#sk-d5f3606d-2544-4228-9cd9-6217bfdf2a20 {color: black;background-color: white;}#sk-d5f3606d-2544-4228-9cd9-6217bfdf2a20 pre{padding: 0;}#sk-d5f3606d-2544-4228-9cd9-6217bfdf2a20 div.sk-toggleable {background-color: white;}#sk-d5f3606d-2544-4228-9cd9-6217bfdf2a20 label.sk-toggleable__label {cursor: pointer;display: block;width: 100%;margin-bottom: 0;padding: 0.3em;box-sizing: border-box;text-align: center;}#sk-d5f3606d-2544-4228-9cd9-6217bfdf2a20 label.sk-toggleable__label-arrow:before {content: \"▸\";float: left;margin-right: 0.25em;color: #696969;}#sk-d5f3606d-2544-4228-9cd9-6217bfdf2a20 label.sk-toggleable__label-arrow:hover:before {color: black;}#sk-d5f3606d-2544-4228-9cd9-6217bfdf2a20 div.sk-estimator:hover label.sk-toggleable__label-arrow:before {color: black;}#sk-d5f3606d-2544-4228-9cd9-6217bfdf2a20 div.sk-toggleable__content {max-height: 0;max-width: 0;overflow: hidden;text-align: left;background-color: #f0f8ff;}#sk-d5f3606d-2544-4228-9cd9-6217bfdf2a20 div.sk-toggleable__content pre {margin: 0.2em;color: black;border-radius: 0.25em;background-color: #f0f8ff;}#sk-d5f3606d-2544-4228-9cd9-6217bfdf2a20 input.sk-toggleable__control:checked~div.sk-toggleable__content {max-height: 200px;max-width: 100%;overflow: auto;}#sk-d5f3606d-2544-4228-9cd9-6217bfdf2a20 input.sk-toggleable__control:checked~label.sk-toggleable__label-arrow:before {content: \"▾\";}#sk-d5f3606d-2544-4228-9cd9-6217bfdf2a20 div.sk-estimator input.sk-toggleable__control:checked~label.sk-toggleable__label {background-color: #d4ebff;}#sk-d5f3606d-2544-4228-9cd9-6217bfdf2a20 div.sk-label input.sk-toggleable__control:checked~label.sk-toggleable__label {background-color: #d4ebff;}#sk-d5f3606d-2544-4228-9cd9-6217bfdf2a20 input.sk-hidden--visually {border: 0;clip: rect(1px 1px 1px 1px);clip: rect(1px, 1px, 1px, 1px);height: 1px;margin: -1px;overflow: hidden;padding: 0;position: absolute;width: 1px;}#sk-d5f3606d-2544-4228-9cd9-6217bfdf2a20 div.sk-estimator {font-family: monospace;background-color: #f0f8ff;border: 1px dotted black;border-radius: 0.25em;box-sizing: border-box;margin-bottom: 0.5em;}#sk-d5f3606d-2544-4228-9cd9-6217bfdf2a20 div.sk-estimator:hover {background-color: #d4ebff;}#sk-d5f3606d-2544-4228-9cd9-6217bfdf2a20 div.sk-parallel-item::after {content: \"\";width: 100%;border-bottom: 1px solid gray;flex-grow: 1;}#sk-d5f3606d-2544-4228-9cd9-6217bfdf2a20 div.sk-label:hover label.sk-toggleable__label {background-color: #d4ebff;}#sk-d5f3606d-2544-4228-9cd9-6217bfdf2a20 div.sk-serial::before {content: \"\";position: absolute;border-left: 1px solid gray;box-sizing: border-box;top: 2em;bottom: 0;left: 50%;}#sk-d5f3606d-2544-4228-9cd9-6217bfdf2a20 div.sk-serial {display: flex;flex-direction: column;align-items: center;background-color: white;padding-right: 0.2em;padding-left: 0.2em;}#sk-d5f3606d-2544-4228-9cd9-6217bfdf2a20 div.sk-item {z-index: 1;}#sk-d5f3606d-2544-4228-9cd9-6217bfdf2a20 div.sk-parallel {display: flex;align-items: stretch;justify-content: center;background-color: white;}#sk-d5f3606d-2544-4228-9cd9-6217bfdf2a20 div.sk-parallel::before {content: \"\";position: absolute;border-left: 1px solid gray;box-sizing: border-box;top: 2em;bottom: 0;left: 50%;}#sk-d5f3606d-2544-4228-9cd9-6217bfdf2a20 div.sk-parallel-item {display: flex;flex-direction: column;position: relative;background-color: white;}#sk-d5f3606d-2544-4228-9cd9-6217bfdf2a20 div.sk-parallel-item:first-child::after {align-self: flex-end;width: 50%;}#sk-d5f3606d-2544-4228-9cd9-6217bfdf2a20 div.sk-parallel-item:last-child::after {align-self: flex-start;width: 50%;}#sk-d5f3606d-2544-4228-9cd9-6217bfdf2a20 div.sk-parallel-item:only-child::after {width: 0;}#sk-d5f3606d-2544-4228-9cd9-6217bfdf2a20 div.sk-dashed-wrapped {border: 1px dashed gray;margin: 0 0.4em 0.5em 0.4em;box-sizing: border-box;padding-bottom: 0.4em;background-color: white;position: relative;}#sk-d5f3606d-2544-4228-9cd9-6217bfdf2a20 div.sk-label label {font-family: monospace;font-weight: bold;background-color: white;display: inline-block;line-height: 1.2em;}#sk-d5f3606d-2544-4228-9cd9-6217bfdf2a20 div.sk-label-container {position: relative;z-index: 2;text-align: center;}#sk-d5f3606d-2544-4228-9cd9-6217bfdf2a20 div.sk-container {/* jupyter's `normalize.less` sets `[hidden] { display: none; }` but bootstrap.min.css set `[hidden] { display: none !important; }` so we also need the `!important` here to be able to override the default hidden behavior on the sphinx rendered scikit-learn.org. See: https://github.com/scikit-learn/scikit-learn/issues/21755 */display: inline-block !important;position: relative;}#sk-d5f3606d-2544-4228-9cd9-6217bfdf2a20 div.sk-text-repr-fallback {display: none;}</style><div id=\"sk-d5f3606d-2544-4228-9cd9-6217bfdf2a20\" class=\"sk-top-container\"><div class=\"sk-text-repr-fallback\"><pre>Pipeline(steps=[(&#x27;transform-columns&#x27;,\n",
       "                 ColumnTransformer(transformers=[(&#x27;encode-categorical-nominal&#x27;,\n",
       "                                                  Pipeline(steps=[(&#x27;impute-missing&#x27;,\n",
       "                                                                   SimpleImputer(strategy=&#x27;most_frequent&#x27;)),\n",
       "                                                                  (&#x27;encode-nominal&#x27;,\n",
       "                                                                   OneHotEncoder(handle_unknown=&#x27;ignore&#x27;))]),\n",
       "                                                  [1, 5, 6, 7, 8, 9, 13]),\n",
       "                                                 (&#x27;encode-categorical-ordinal&#x27;,\n",
       "                                                  OrdinalEncoder(handle_unknown=&#x27;use_encoded_value&#x27;,\n",
       "                                                                 unknown_value=-1),\n",
       "                                                  [3]),\n",
       "                                                 (&#x27;scale-numerical&#x27;,\n",
       "                                                  MinMaxScaler(),\n",
       "                                                  [0, 2, 10, 11, 12])])),\n",
       "                (&#x27;dimension-reduction&#x27;,\n",
       "                 TruncatedSVD(n_components=8, random_state=42))])</pre><b>Please rerun this cell to show the HTML repr or trust the notebook.</b></div><div class=\"sk-container\" hidden><div class=\"sk-item sk-dashed-wrapped\"><div class=\"sk-label-container\"><div class=\"sk-label sk-toggleable\"><input class=\"sk-toggleable__control sk-hidden--visually\" id=\"2b499e31-28f5-44c9-aab3-6ceeed7cca55\" type=\"checkbox\" ><label for=\"2b499e31-28f5-44c9-aab3-6ceeed7cca55\" class=\"sk-toggleable__label sk-toggleable__label-arrow\">Pipeline</label><div class=\"sk-toggleable__content\"><pre>Pipeline(steps=[(&#x27;transform-columns&#x27;,\n",
       "                 ColumnTransformer(transformers=[(&#x27;encode-categorical-nominal&#x27;,\n",
       "                                                  Pipeline(steps=[(&#x27;impute-missing&#x27;,\n",
       "                                                                   SimpleImputer(strategy=&#x27;most_frequent&#x27;)),\n",
       "                                                                  (&#x27;encode-nominal&#x27;,\n",
       "                                                                   OneHotEncoder(handle_unknown=&#x27;ignore&#x27;))]),\n",
       "                                                  [1, 5, 6, 7, 8, 9, 13]),\n",
       "                                                 (&#x27;encode-categorical-ordinal&#x27;,\n",
       "                                                  OrdinalEncoder(handle_unknown=&#x27;use_encoded_value&#x27;,\n",
       "                                                                 unknown_value=-1),\n",
       "                                                  [3]),\n",
       "                                                 (&#x27;scale-numerical&#x27;,\n",
       "                                                  MinMaxScaler(),\n",
       "                                                  [0, 2, 10, 11, 12])])),\n",
       "                (&#x27;dimension-reduction&#x27;,\n",
       "                 TruncatedSVD(n_components=8, random_state=42))])</pre></div></div></div><div class=\"sk-serial\"><div class=\"sk-item sk-dashed-wrapped\"><div class=\"sk-label-container\"><div class=\"sk-label sk-toggleable\"><input class=\"sk-toggleable__control sk-hidden--visually\" id=\"fc3a7ae6-56d7-4ec0-ab52-ad2fd4fd829e\" type=\"checkbox\" ><label for=\"fc3a7ae6-56d7-4ec0-ab52-ad2fd4fd829e\" class=\"sk-toggleable__label sk-toggleable__label-arrow\">transform-columns: ColumnTransformer</label><div class=\"sk-toggleable__content\"><pre>ColumnTransformer(transformers=[(&#x27;encode-categorical-nominal&#x27;,\n",
       "                                 Pipeline(steps=[(&#x27;impute-missing&#x27;,\n",
       "                                                  SimpleImputer(strategy=&#x27;most_frequent&#x27;)),\n",
       "                                                 (&#x27;encode-nominal&#x27;,\n",
       "                                                  OneHotEncoder(handle_unknown=&#x27;ignore&#x27;))]),\n",
       "                                 [1, 5, 6, 7, 8, 9, 13]),\n",
       "                                (&#x27;encode-categorical-ordinal&#x27;,\n",
       "                                 OrdinalEncoder(handle_unknown=&#x27;use_encoded_value&#x27;,\n",
       "                                                unknown_value=-1),\n",
       "                                 [3]),\n",
       "                                (&#x27;scale-numerical&#x27;, MinMaxScaler(),\n",
       "                                 [0, 2, 10, 11, 12])])</pre></div></div></div><div class=\"sk-parallel\"><div class=\"sk-parallel-item\"><div class=\"sk-item\"><div class=\"sk-label-container\"><div class=\"sk-label sk-toggleable\"><input class=\"sk-toggleable__control sk-hidden--visually\" id=\"f401766d-e4e7-4adc-820b-7528bee31934\" type=\"checkbox\" ><label for=\"f401766d-e4e7-4adc-820b-7528bee31934\" class=\"sk-toggleable__label sk-toggleable__label-arrow\">encode-categorical-nominal</label><div class=\"sk-toggleable__content\"><pre>[1, 5, 6, 7, 8, 9, 13]</pre></div></div></div><div class=\"sk-serial\"><div class=\"sk-item\"><div class=\"sk-serial\"><div class=\"sk-item\"><div class=\"sk-estimator sk-toggleable\"><input class=\"sk-toggleable__control sk-hidden--visually\" id=\"bdc63987-4d10-4b73-b0d4-08ff96e81ac2\" type=\"checkbox\" ><label for=\"bdc63987-4d10-4b73-b0d4-08ff96e81ac2\" class=\"sk-toggleable__label sk-toggleable__label-arrow\">SimpleImputer</label><div class=\"sk-toggleable__content\"><pre>SimpleImputer(strategy=&#x27;most_frequent&#x27;)</pre></div></div></div><div class=\"sk-item\"><div class=\"sk-estimator sk-toggleable\"><input class=\"sk-toggleable__control sk-hidden--visually\" id=\"d2c19673-36b2-4aaa-b1e9-579319c87020\" type=\"checkbox\" ><label for=\"d2c19673-36b2-4aaa-b1e9-579319c87020\" class=\"sk-toggleable__label sk-toggleable__label-arrow\">OneHotEncoder</label><div class=\"sk-toggleable__content\"><pre>OneHotEncoder(handle_unknown=&#x27;ignore&#x27;)</pre></div></div></div></div></div></div></div></div><div class=\"sk-parallel-item\"><div class=\"sk-item\"><div class=\"sk-label-container\"><div class=\"sk-label sk-toggleable\"><input class=\"sk-toggleable__control sk-hidden--visually\" id=\"ae694572-2569-4ac4-bb3a-3c754876d325\" type=\"checkbox\" ><label for=\"ae694572-2569-4ac4-bb3a-3c754876d325\" class=\"sk-toggleable__label sk-toggleable__label-arrow\">encode-categorical-ordinal</label><div class=\"sk-toggleable__content\"><pre>[3]</pre></div></div></div><div class=\"sk-serial\"><div class=\"sk-item\"><div class=\"sk-estimator sk-toggleable\"><input class=\"sk-toggleable__control sk-hidden--visually\" id=\"f35e0b83-c2e9-490c-bf43-dead64035639\" type=\"checkbox\" ><label for=\"f35e0b83-c2e9-490c-bf43-dead64035639\" class=\"sk-toggleable__label sk-toggleable__label-arrow\">OrdinalEncoder</label><div class=\"sk-toggleable__content\"><pre>OrdinalEncoder(handle_unknown=&#x27;use_encoded_value&#x27;, unknown_value=-1)</pre></div></div></div></div></div></div><div class=\"sk-parallel-item\"><div class=\"sk-item\"><div class=\"sk-label-container\"><div class=\"sk-label sk-toggleable\"><input class=\"sk-toggleable__control sk-hidden--visually\" id=\"37ba6327-435e-45f8-9afa-f614e4153dd3\" type=\"checkbox\" ><label for=\"37ba6327-435e-45f8-9afa-f614e4153dd3\" class=\"sk-toggleable__label sk-toggleable__label-arrow\">scale-numerical</label><div class=\"sk-toggleable__content\"><pre>[0, 2, 10, 11, 12]</pre></div></div></div><div class=\"sk-serial\"><div class=\"sk-item\"><div class=\"sk-estimator sk-toggleable\"><input class=\"sk-toggleable__control sk-hidden--visually\" id=\"bea5692e-ce32-4dcd-b7dc-1b141e358c8b\" type=\"checkbox\" ><label for=\"bea5692e-ce32-4dcd-b7dc-1b141e358c8b\" class=\"sk-toggleable__label sk-toggleable__label-arrow\">MinMaxScaler</label><div class=\"sk-toggleable__content\"><pre>MinMaxScaler()</pre></div></div></div></div></div></div></div></div><div class=\"sk-item\"><div class=\"sk-estimator sk-toggleable\"><input class=\"sk-toggleable__control sk-hidden--visually\" id=\"2648f155-a134-4102-89cd-e9f099541cb2\" type=\"checkbox\" ><label for=\"2648f155-a134-4102-89cd-e9f099541cb2\" class=\"sk-toggleable__label sk-toggleable__label-arrow\">TruncatedSVD</label><div class=\"sk-toggleable__content\"><pre>TruncatedSVD(n_components=8, random_state=42)</pre></div></div></div></div></div></div></div>"
      ],
      "text/plain": [
       "Pipeline(steps=[('transform-columns',\n",
       "                 ColumnTransformer(transformers=[('encode-categorical-nominal',\n",
       "                                                  Pipeline(steps=[('impute-missing',\n",
       "                                                                   SimpleImputer(strategy='most_frequent')),\n",
       "                                                                  ('encode-nominal',\n",
       "                                                                   OneHotEncoder(handle_unknown='ignore'))]),\n",
       "                                                  [1, 5, 6, 7, 8, 9, 13]),\n",
       "                                                 ('encode-categorical-ordinal',\n",
       "                                                  OrdinalEncoder(handle_unknown='use_encoded_value',\n",
       "                                                                 unknown_value=-1),\n",
       "                                                  [3]),\n",
       "                                                 ('scale-numerical',\n",
       "                                                  MinMaxScaler(),\n",
       "                                                  [0, 2, 10, 11, 12])])),\n",
       "                ('dimension-reduction',\n",
       "                 TruncatedSVD(n_components=8, random_state=42))])"
      ]
     },
     "execution_count": 31,
     "metadata": {},
     "output_type": "execute_result"
    }
   ],
   "source": [
    "ct_reduce_dims = Pipeline(steps=[\n",
    "    (\"transform-columns\", ct),\n",
    "    (\"dimension-reduction\", TruncatedSVD(n_components=8, random_state=42))\n",
    "])\n",
    "\n",
    "ct_reduce_dims.fit(X)"
   ]
  },
  {
   "cell_type": "code",
   "execution_count": 32,
   "metadata": {},
   "outputs": [
    {
     "name": "stdout",
     "output_type": "stream",
     "text": [
      "Data sebelum praproses dan reduksi dimensi\n",
      "[[39 'State-gov' 77516 'Bachelors' 13 'Never-married' 'Adm-clerical'\n",
      "  'Not-in-family' 'White' 'Male' 2174 0 40 'United-States']]\n",
      "Data setelah praproses dan reduksi dimensi\n",
      "[[ 9.17166842 -0.3428997   0.47239131 -0.75159315  0.84468271  0.48701428\n",
      "  -0.19597023 -0.02607514]]\n"
     ]
    },
    {
     "data": {
      "image/png": "[encoded data removed]",
      "text/plain": [
       "<Figure size 432x288 with 1 Axes>"
      ]
     },
     "metadata": {
      "needs_background": "light"
     },
     "output_type": "display_data"
    }
   ],
   "source": [
    "print(\"Data sebelum praproses dan reduksi dimensi\")\n",
    "print(X[0:1])\n",
    "print(\"Data setelah praproses dan reduksi dimensi\")\n",
    "print(ct_reduce_dims.transform(X[0:1]))\n",
    "\n",
    "ct_svd = ct_reduce_dims[\"dimension-reduction\"]\n",
    "plot_explained_variance(ct_svd.explained_variance_ratio_)"
   ]
  },
  {
   "cell_type": "code",
   "execution_count": null,
   "metadata": {},
   "outputs": [],
   "source": []
  }
 ],
 "metadata": {
  "file_extension": ".py",
  "kernelspec": {
   "display_name": "Python 3",
   "name": "python3"
  },
  "language_info": {
   "codemirror_mode": {
    "name": "ipython",
    "version": 3
   },
   "file_extension": ".py",
   "mimetype": "text/x-python",
   "name": "python",
   "nbconvert_exporter": "python",
   "pygments_lexer": "ipython3",
   "version": "3.8.12"
  },
  "mimetype": "text/x-python",
  "name": "python",
  "npconvert_exporter": "python",
  "orig_nbformat": 2,
  "pygments_lexer": "ipython3",
  "version": 3
 },
 "nbformat": 4,
 "nbformat_minor": 2
}
